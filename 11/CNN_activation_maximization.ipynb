{
  "nbformat": 4,
  "nbformat_minor": 0,
  "metadata": {
    "colab": {
      "name": "CNN_activation_maximization.ipynb",
      "version": "0.3.2",
      "provenance": [],
      "collapsed_sections": []
    },
    "kernelspec": {
      "name": "python3",
      "display_name": "Python 3"
    },
    "accelerator": "GPU"
  },
  "cells": [
    {
      "metadata": {
        "id": "imWIDTjPZJxm",
        "colab_type": "text"
      },
      "cell_type": "markdown",
      "source": [
        "# Activation maximization\n",
        "\n",
        "This notebook will guide you through the use of a widely used technique for studying the behaviour of convolutional neural networks. You will use a python package called `keras-vis` to apply a technique called `activation maximization`:\n",
        "\n",
        "The idea behind activation maximization is simple: generate an input image that maximizes the output activations of a given unit (filter) in the network.\n",
        "\n",
        "The `keras-vis` package computes the derivative of the ActivationMaximization loss with respect to the input, and uses this gradient to update the input image. ActivationMaximization loss simply outputs small values for large filter activations (the package minimizes losses during gradient descent iterations). This allows us to understand what sort of input patterns activate a particular filter. For example, for detecting the digit one (1) there could be a filter that activates for the presence of vertical lines within the input image.\n",
        "\n",
        "For the experiments, you are going to use the `mnist` dataset from LeCun et al. 1998."
      ]
    },
    {
      "metadata": {
        "id": "tc8E5mhZZJxp",
        "colab_type": "text"
      },
      "cell_type": "markdown",
      "source": [
        "------------------------------------------------\n",
        "# First part: Creating a model"
      ]
    },
    {
      "metadata": {
        "id": "e9ptRYj3ZJxz",
        "colab_type": "text"
      },
      "cell_type": "markdown",
      "source": [
        "## Loading the packages"
      ]
    },
    {
      "metadata": {
        "id": "ob1LHDtsZJx3",
        "colab_type": "code",
        "outputId": "43bf35bb-aaf4-4c29-e145-dc06dea89c4b",
        "colab": {
          "base_uri": "https://localhost:8080/",
          "height": 34
        }
      },
      "cell_type": "code",
      "source": [
        "import numpy as np\n",
        "from matplotlib import pyplot as pl\n",
        "\n",
        "from keras.datasets import mnist\n",
        "from keras.models import Model\n",
        "from keras.layers.core import Dense, Dropout, Flatten\n",
        "from keras.optimizers import RMSprop\n",
        "from keras.utils import np_utils\n",
        "from keras.layers.convolutional import Convolution2D, MaxPooling2D\n",
        "from keras.layers import Input\n",
        "from sklearn import metrics as me\n",
        "from scipy import stats\n",
        "\n",
        "%matplotlib inline"
      ],
      "execution_count": 1,
      "outputs": [
        {
          "output_type": "stream",
          "text": [
            "Using TensorFlow backend.\n"
          ],
          "name": "stderr"
        }
      ]
    },
    {
      "metadata": {
        "id": "e6up2m5IZJyS",
        "colab_type": "text"
      },
      "cell_type": "markdown",
      "source": [
        "## Loading the data"
      ]
    },
    {
      "metadata": {
        "id": "bOR9KEnCZJyZ",
        "colab_type": "text"
      },
      "cell_type": "markdown",
      "source": [
        "Load the `mnist` dataset and normalize in the range [0, 1]"
      ]
    },
    {
      "metadata": {
        "id": "JXCIiSYaZJya",
        "colab_type": "code",
        "outputId": "0ca6fae3-bb13-4068-d7c5-942966fffc95",
        "colab": {
          "base_uri": "https://localhost:8080/",
          "height": 52
        }
      },
      "cell_type": "code",
      "source": [
        "(X_train, y_train), (X_test, y_test) = mnist.load_data()\n",
        "\n",
        "n_train, height, width = X_train.shape\n",
        "n_test, _, _ = X_test.shape\n",
        "\n",
        "X_train = X_train.reshape(n_train, height, width, 1).astype('float32')\n",
        "X_test = X_test.reshape(n_test, height, width, 1).astype('float32')\n",
        "\n",
        "X_train /= 255.0\n",
        "X_test /= 255.0\n",
        "\n",
        "n_classes = 10\n",
        "\n",
        "print(n_train, 'train samples')\n",
        "print(n_test, 'test samples')\n",
        "\n",
        "# convert class vectors to binary class matrices\n",
        "Y_train = np_utils.to_categorical(y_train, n_classes)\n",
        "Y_test = np_utils.to_categorical(y_test, n_classes)"
      ],
      "execution_count": 2,
      "outputs": [
        {
          "output_type": "stream",
          "text": [
            "60000 train samples\n",
            "10000 test samples\n"
          ],
          "name": "stdout"
        }
      ]
    },
    {
      "metadata": {
        "id": "PEpZac5JZJyj",
        "colab_type": "text"
      },
      "cell_type": "markdown",
      "source": [
        "## Creating the network"
      ]
    },
    {
      "metadata": {
        "id": "63eMtWFxZJyp",
        "colab_type": "text"
      },
      "cell_type": "markdown",
      "source": [
        "Create the CNN and show its architecture"
      ]
    },
    {
      "metadata": {
        "id": "7J4_2sTfZJys",
        "colab_type": "code",
        "outputId": "71b4e501-27cc-45f2-e471-eccf35bf16a6",
        "colab": {
          "base_uri": "https://localhost:8080/",
          "height": 486
        }
      },
      "cell_type": "code",
      "source": [
        "l0 = Input(shape=(height, width, 1), name='l0')\n",
        "\n",
        "l1 = Convolution2D(9, (5, 5), padding='same', activation='relu', name='l1')(l0)\n",
        "l1_mp = MaxPooling2D(pool_size=(2, 2), name='l1_mp')(l1)\n",
        "\n",
        "l2 = Convolution2D(9, (5, 5), padding='same', activation='relu', name='l2')(l1_mp)\n",
        "l2_mp = MaxPooling2D(pool_size=(2, 2), name='l2_mp')(l2)\n",
        "\n",
        "l3 = Convolution2D(16, (3, 3), padding='same', activation='relu', name='l3')(l2_mp)\n",
        "l3_mp = MaxPooling2D(pool_size=(2, 2), name='l3_mp')(l3)\n",
        "\n",
        "flat = Flatten(name='flat')(l3_mp)\n",
        "\n",
        "l4 = Dense(25, activation='relu', name='l4')(flat)\n",
        "\n",
        "l5 = Dense(n_classes, activation='softmax', name='l5')(l4)\n",
        "\n",
        "model = Model(inputs=l0, outputs=l5)\n",
        "model.summary()"
      ],
      "execution_count": 3,
      "outputs": [
        {
          "output_type": "stream",
          "text": [
            "_________________________________________________________________\n",
            "Layer (type)                 Output Shape              Param #   \n",
            "=================================================================\n",
            "l0 (InputLayer)              (None, 28, 28, 1)         0         \n",
            "_________________________________________________________________\n",
            "l1 (Conv2D)                  (None, 28, 28, 9)         234       \n",
            "_________________________________________________________________\n",
            "l1_mp (MaxPooling2D)         (None, 14, 14, 9)         0         \n",
            "_________________________________________________________________\n",
            "l2 (Conv2D)                  (None, 14, 14, 9)         2034      \n",
            "_________________________________________________________________\n",
            "l2_mp (MaxPooling2D)         (None, 7, 7, 9)           0         \n",
            "_________________________________________________________________\n",
            "l3 (Conv2D)                  (None, 7, 7, 16)          1312      \n",
            "_________________________________________________________________\n",
            "l3_mp (MaxPooling2D)         (None, 3, 3, 16)          0         \n",
            "_________________________________________________________________\n",
            "flat (Flatten)               (None, 144)               0         \n",
            "_________________________________________________________________\n",
            "l4 (Dense)                   (None, 25)                3625      \n",
            "_________________________________________________________________\n",
            "l5 (Dense)                   (None, 10)                260       \n",
            "=================================================================\n",
            "Total params: 7,465\n",
            "Trainable params: 7,465\n",
            "Non-trainable params: 0\n",
            "_________________________________________________________________\n"
          ],
          "name": "stdout"
        }
      ]
    },
    {
      "metadata": {
        "id": "yvvTlJJSZJy_",
        "colab_type": "text"
      },
      "cell_type": "markdown",
      "source": [
        "## Training the network"
      ]
    },
    {
      "metadata": {
        "id": "jZpbkamGZJzA",
        "colab_type": "text"
      },
      "cell_type": "markdown",
      "source": [
        "Define some constants and train de CNN"
      ]
    },
    {
      "metadata": {
        "id": "DKWZxlE9ZJzC",
        "colab_type": "code",
        "outputId": "45032a74-f925-4a4c-d4d8-bdbe2ff350b6",
        "colab": {
          "base_uri": "https://localhost:8080/",
          "height": 382
        }
      },
      "cell_type": "code",
      "source": [
        "batch_size = 128\n",
        "n_epoch = 10\n",
        "\n",
        "model.compile(loss='categorical_crossentropy', optimizer=RMSprop(), metrics=['accuracy'])\n",
        "history = model.fit(X_train, Y_train, batch_size=batch_size, epochs=n_epoch, verbose=1, validation_data=(X_test, Y_test))"
      ],
      "execution_count": 4,
      "outputs": [
        {
          "output_type": "stream",
          "text": [
            "Train on 60000 samples, validate on 10000 samples\n",
            "Epoch 1/10\n",
            "60000/60000 [==============================] - 7s 111us/step - loss: 0.5215 - acc: 0.8391 - val_loss: 0.1858 - val_acc: 0.9461\n",
            "Epoch 2/10\n",
            "60000/60000 [==============================] - 5s 81us/step - loss: 0.1648 - acc: 0.9505 - val_loss: 0.1327 - val_acc: 0.9590\n",
            "Epoch 3/10\n",
            "60000/60000 [==============================] - 5s 82us/step - loss: 0.1115 - acc: 0.9663 - val_loss: 0.0774 - val_acc: 0.9747\n",
            "Epoch 4/10\n",
            "60000/60000 [==============================] - 5s 85us/step - loss: 0.0887 - acc: 0.9722 - val_loss: 0.0739 - val_acc: 0.9771\n",
            "Epoch 5/10\n",
            "60000/60000 [==============================] - 5s 84us/step - loss: 0.0724 - acc: 0.9776 - val_loss: 0.0565 - val_acc: 0.9831\n",
            "Epoch 6/10\n",
            "60000/60000 [==============================] - 5s 81us/step - loss: 0.0638 - acc: 0.9803 - val_loss: 0.0645 - val_acc: 0.9802\n",
            "Epoch 7/10\n",
            "60000/60000 [==============================] - 5s 81us/step - loss: 0.0562 - acc: 0.9830 - val_loss: 0.0497 - val_acc: 0.9835\n",
            "Epoch 8/10\n",
            "60000/60000 [==============================] - 5s 81us/step - loss: 0.0507 - acc: 0.9847 - val_loss: 0.0473 - val_acc: 0.9841\n",
            "Epoch 9/10\n",
            "60000/60000 [==============================] - 5s 81us/step - loss: 0.0457 - acc: 0.9860 - val_loss: 0.0484 - val_acc: 0.9858\n",
            "Epoch 10/10\n",
            "60000/60000 [==============================] - 5s 81us/step - loss: 0.0425 - acc: 0.9869 - val_loss: 0.0439 - val_acc: 0.9865\n"
          ],
          "name": "stdout"
        }
      ]
    },
    {
      "metadata": {
        "id": "ViQCrGZHZJzP",
        "colab_type": "text"
      },
      "cell_type": "markdown",
      "source": [
        "Show the performance of the model"
      ]
    },
    {
      "metadata": {
        "id": "NmyJTjiKZJzU",
        "colab_type": "code",
        "outputId": "7be0b163-073c-4cc9-bc3d-23785eeee556",
        "colab": {
          "base_uri": "https://localhost:8080/",
          "height": 300
        }
      },
      "cell_type": "code",
      "source": [
        "pl.plot(history.history['loss'], label='Training')\n",
        "pl.plot(history.history['val_loss'], label='Testing')\n",
        "pl.legend()\n",
        "pl.grid()\n",
        "\n",
        "score = model.evaluate(X_test, Y_test, verbose=0)\n",
        "print('Test score:', score[0])\n",
        "print('Test accuracy:', score[1])"
      ],
      "execution_count": 5,
      "outputs": [
        {
          "output_type": "stream",
          "text": [
            "Test score: 0.043935393385880164\n",
            "Test accuracy: 0.9865\n"
          ],
          "name": "stdout"
        },
        {
          "output_type": "display_data",
          "data": {
            "image/png": "[encoded data removed]",
            "text/plain": [
              "<matplotlib.figure.Figure at 0x7fe6266a68d0>"
            ]
          },
          "metadata": {
            "tags": []
          }
        }
      ]
    },
    {
      "metadata": {
        "id": "0rrwvLEJZJzp",
        "colab_type": "text"
      },
      "cell_type": "markdown",
      "source": [
        "Confusion matrix"
      ]
    },
    {
      "metadata": {
        "id": "FR8MPGY9ZJzq",
        "colab_type": "code",
        "outputId": "9740019c-c8f1-4469-8320-d18533c8534c",
        "colab": {
          "base_uri": "https://localhost:8080/",
          "height": 191
        }
      },
      "cell_type": "code",
      "source": [
        "pred = model.predict_on_batch(X_test)\n",
        "pred = np.argmax(pred, axis=-1)\n",
        "me.confusion_matrix(y_test, pred)"
      ],
      "execution_count": 6,
      "outputs": [
        {
          "output_type": "execute_result",
          "data": {
            "text/plain": [
              "array([[ 977,    0,    1,    0,    0,    0,    1,    1,    0,    0],\n",
              "       [   1, 1124,    4,    2,    0,    1,    1,    1,    1,    0],\n",
              "       [   2,    0, 1024,    1,    1,    0,    0,    2,    2,    0],\n",
              "       [   0,    0,    3,  994,    0,    6,    0,    1,    2,    4],\n",
              "       [   0,    0,    1,    0,  966,    0,    4,    0,    2,    9],\n",
              "       [   1,    0,    3,    4,    0,  881,    2,    0,    0,    1],\n",
              "       [   6,    2,    0,    1,    1,    3,  945,    0,    0,    0],\n",
              "       [   0,    2,   10,    3,    0,    0,    0, 1006,    2,    5],\n",
              "       [   5,    0,    4,    3,    0,    0,    1,    2,  958,    1],\n",
              "       [   3,    1,    1,    2,    1,    5,    0,    2,    4,  990]])"
            ]
          },
          "metadata": {
            "tags": []
          },
          "execution_count": 6
        }
      ]
    },
    {
      "metadata": {
        "id": "Q5ZZQIF9ZJzt",
        "colab_type": "text"
      },
      "cell_type": "markdown",
      "source": [
        "-------------------------\n",
        "# Second part: maximizing activations"
      ]
    },
    {
      "metadata": {
        "id": "KZt_yVZLZJzt",
        "colab_type": "text"
      },
      "cell_type": "markdown",
      "source": [
        "## Loading the packages"
      ]
    },
    {
      "metadata": {
        "id": "iP0BOXaSx1zw",
        "colab_type": "code",
        "colab": {}
      },
      "cell_type": "code",
      "source": [
        "#!pip install git+https://github.com/raghakot/keras-vis.git -U"
      ],
      "execution_count": 0,
      "outputs": []
    },
    {
      "metadata": {
        "id": "JrnCYuOSZJzw",
        "colab_type": "code",
        "colab": {}
      },
      "cell_type": "code",
      "source": [
        "from vis.visualization import visualize_activation\n",
        "from vis.utils import utils\n",
        "from keras import activations\n",
        "from __future__ import print_function"
      ],
      "execution_count": 0,
      "outputs": []
    },
    {
      "metadata": {
        "id": "pahxlVXqZJzy",
        "colab_type": "text"
      },
      "cell_type": "markdown",
      "source": [
        "## Activation maximization keeping the softmax activation at the output\n",
        "Activation maximization does not work if the activation function is a Softmax. Let us see this behaviour"
      ]
    },
    {
      "metadata": {
        "id": "R8qyb4ynZJzz",
        "colab_type": "code",
        "colab": {}
      },
      "cell_type": "code",
      "source": [
        "# select the last layer\n",
        "layer_idx = utils.find_layer_idx(model, 'l5')"
      ],
      "execution_count": 0,
      "outputs": []
    },
    {
      "metadata": {
        "id": "O0ytYLi8ZJz0",
        "colab_type": "code",
        "outputId": "e3748db0-cf33-432d-9000-db64da3408c7",
        "colab": {
          "base_uri": "https://localhost:8080/",
          "height": 720
        }
      },
      "cell_type": "code",
      "source": [
        "pl.figure(figsize=(12,10))\n",
        "for output_idx in np.arange(10):\n",
        "    img = visualize_activation(model, layer_idx, filter_indices=int(output_idx), input_range=(0.0, 1.0))\n",
        "    pl.subplot(3, 4, output_idx+1)\n",
        "    pl.title('Maximization of output {}'.format(output_idx))\n",
        "    pl.imshow(img[..., 0])\n",
        "pl.tight_layout()"
      ],
      "execution_count": 11,
      "outputs": [
        {
          "output_type": "display_data",
          "data": {
            "image/png": "[encoded data removed]",
            "text/plain": [
              "<matplotlib.figure.Figure at 0x7fe6207bb908>"
            ]
          },
          "metadata": {
            "tags": []
          }
        }
      ]
    },
    {
      "metadata": {
        "id": "TgYNx4NPZJz6",
        "colab_type": "text"
      },
      "cell_type": "markdown",
      "source": [
        "It does not work! The reason is that when using Softmax as activation function, maximizing an output node can be done by minimizing other outputs. It is the only activation that depends on other node output(s) in the layer."
      ]
    },
    {
      "metadata": {
        "id": "DjnkS6BmZJz7",
        "colab_type": "text"
      },
      "cell_type": "markdown",
      "source": [
        "## Activation maximization without the softmax activation at the output"
      ]
    },
    {
      "metadata": {
        "id": "BaYAAJa4ZJz7",
        "colab_type": "text"
      },
      "cell_type": "markdown",
      "source": [
        "The following cell replaces the Softmax activation function by a Linear activation function"
      ]
    },
    {
      "metadata": {
        "id": "yvGzheAyZJz8",
        "colab_type": "code",
        "colab": {}
      },
      "cell_type": "code",
      "source": [
        "model.layers[layer_idx].activation = activations.linear\n",
        "model = utils.apply_modifications(model)"
      ],
      "execution_count": 0,
      "outputs": []
    },
    {
      "metadata": {
        "id": "My22iKA8ZJz-",
        "colab_type": "text"
      },
      "cell_type": "markdown",
      "source": [
        "Visualize the image that maximizes the first output (0) of the network"
      ]
    },
    {
      "metadata": {
        "id": "fKVQwgj6ZJz-",
        "colab_type": "code",
        "outputId": "5c46086e-99f6-4d5b-f33d-c610b39fabdb",
        "colab": {
          "base_uri": "https://localhost:8080/",
          "height": 282
        }
      },
      "cell_type": "code",
      "source": [
        "img = visualize_activation(model, layer_idx, filter_indices=0, input_range=(0.0, 1.0), tv_weight=0)\n",
        "pl.imshow(img[..., 0])"
      ],
      "execution_count": 22,
      "outputs": [
        {
          "output_type": "execute_result",
          "data": {
            "text/plain": [
              "<matplotlib.image.AxesImage at 0x7fe60d4df898>"
            ]
          },
          "metadata": {
            "tags": []
          },
          "execution_count": 22
        },
        {
          "output_type": "display_data",
          "data": {
            "image/png": "[encoded data removed]",
            "text/plain": [
              "<matplotlib.figure.Figure at 0x7fe60d664400>"
            ]
          },
          "metadata": {
            "tags": []
          }
        }
      ]
    },
    {
      "metadata": {
        "id": "CE_RKPGLZJ0A",
        "colab_type": "text"
      },
      "cell_type": "markdown",
      "source": [
        "The last result was found without using the `tv_weight` regularizer (tv_weight=0.0). However, we know that using the parameter tv_weight makes the generated image more realistic."
      ]
    },
    {
      "metadata": {
        "id": "Fk7rwAPWZJ0B",
        "colab_type": "text"
      },
      "cell_type": "markdown",
      "source": [
        "## Questions"
      ]
    },
    {
      "metadata": {
        "id": "MmCJT7jAZJ0F",
        "colab_type": "text"
      },
      "cell_type": "markdown",
      "source": [
        "<div class=\"alert alert-block alert-info\">\n",
        "<ul>\n",
        "    <li>Test different values of `tv_weight`</li>\n",
        "    <ul>\n",
        "        <li>Try values between 0.1 and 20 (for example: [0.125, 0.25, 0.5, 1, 2, 4, 8, 16])</li>\n",
        "        <li>Select the regularization parameter that gives the best images (more realistic)</li>\n",
        "        <li>Show the images that maximize each one of the outputs of the network</li>\n",
        "    </ul>\n",
        "    <li>Maximize two outputs at the same time (filter_indices=[f1, f2])</li>\n",
        "    <ul>\n",
        "        <li>Try two classes with similar shape like 1 and 7 or 4 and 9</li>\n",
        "        <li>Try two classes with very different shapes like 0 and 1 or 7 and 8</li>\n",
        "        <li>How activation maximization can be useful for understanding a deep neural network? Explain</li>\n",
        "    </ul>\n",
        "</ul>\n",
        "</div>"
      ]
    },
    {
      "metadata": {
        "id": "iTPwsh7gbMYH",
        "colab_type": "code",
        "colab": {}
      },
      "cell_type": "code",
      "source": [
        ""
      ],
      "execution_count": 0,
      "outputs": []
    }
  ]
}