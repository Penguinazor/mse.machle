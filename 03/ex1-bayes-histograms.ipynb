{
 "cells": [
  {
   "cell_type": "markdown",
   "metadata": {},
   "source": [
    "# Practical work 3\n",
    "Author: Romain Claret\n",
    "## Exercice 1\n",
    "### a. Bayes Histograms"
   ]
  },
  {
   "cell_type": "markdown",
   "metadata": {},
   "source": [
    "a) Loading training data"
   ]
  },
  {
   "cell_type": "code",
   "execution_count": 1,
   "metadata": {
    "scrolled": true
   },
   "outputs": [
    {
     "data": {
      "text/html": [
       "<div>\n",
       "<style scoped>\n",
       "    .dataframe tbody tr th:only-of-type {\n",
       "        vertical-align: middle;\n",
       "    }\n",
       "\n",
       "    .dataframe tbody tr th {\n",
       "        vertical-align: top;\n",
       "    }\n",
       "\n",
       "    .dataframe thead th {\n",
       "        text-align: right;\n",
       "    }\n",
       "</style>\n",
       "<table border=\"1\" class=\"dataframe\">\n",
       "  <thead>\n",
       "    <tr style=\"text-align: right;\">\n",
       "      <th></th>\n",
       "      <th>x1</th>\n",
       "      <th>x2</th>\n",
       "      <th>y</th>\n",
       "    </tr>\n",
       "  </thead>\n",
       "  <tbody>\n",
       "    <tr>\n",
       "      <th>0</th>\n",
       "      <td>34.623660</td>\n",
       "      <td>78.024693</td>\n",
       "      <td>0</td>\n",
       "    </tr>\n",
       "    <tr>\n",
       "      <th>1</th>\n",
       "      <td>30.286711</td>\n",
       "      <td>43.894998</td>\n",
       "      <td>0</td>\n",
       "    </tr>\n",
       "    <tr>\n",
       "      <th>2</th>\n",
       "      <td>35.847409</td>\n",
       "      <td>72.902198</td>\n",
       "      <td>0</td>\n",
       "    </tr>\n",
       "  </tbody>\n",
       "</table>\n",
       "</div>"
      ],
      "text/plain": [
       "          x1         x2  y\n",
       "0  34.623660  78.024693  0\n",
       "1  30.286711  43.894998  0\n",
       "2  35.847409  72.902198  0"
      ]
     },
     "execution_count": 1,
     "metadata": {},
     "output_type": "execute_result"
    }
   ],
   "source": [
    "import pandas as pd\n",
    "col_id = ['x1', 'x2', 'y']\n",
    "data_train = pd.read_csv('ex1-data-train.csv', names=col_id)\n",
    "data_train.head(3)"
   ]
  },
  {
   "cell_type": "markdown",
   "metadata": {},
   "source": [
    "b) Compute P(C0) and P(C1)"
   ]
  },
  {
   "cell_type": "code",
   "execution_count": 2,
   "metadata": {},
   "outputs": [
    {
     "name": "stdout",
     "output_type": "stream",
     "text": [
      "p_c0: 0.4\n",
      "p_c1: 0.6\n"
     ]
    }
   ],
   "source": [
    "x = data_train[col_id[:2]]\n",
    "y = data_train[col_id[-1:]]\n",
    "N = len(y)\n",
    "\n",
    "neg = y[y['y'] == 0].index\n",
    "pos = y[y['y'] == 1].index\n",
    "\n",
    "neg = x.loc[neg][col_id[0]],x.loc[neg][col_id[1]]\n",
    "pos = x.loc[pos][col_id[0]],x.loc[pos][col_id[1]]\n",
    "\n",
    "class_neg = neg[0]+neg[1]\n",
    "class_pos = pos[0]+pos[1]\n",
    "\n",
    "p_c0 = len(class_neg)/N\n",
    "p_c1 = len(class_pos)/N\n",
    "\n",
    "print(\"p_c0:\",p_c0)\n",
    "print(\"p_c1:\",p_c1)\n",
    "\n"
   ]
  },
  {
   "cell_type": "markdown",
   "metadata": {},
   "source": [
    "c) Compute histograms for x1 and x2"
   ]
  },
  {
   "cell_type": "code",
   "execution_count": 3,
   "metadata": {},
   "outputs": [
    {
     "data": {
      "text/plain": [
       "<Figure size 1500x1500 with 4 Axes>"
      ]
     },
     "metadata": {},
     "output_type": "display_data"
    }
   ],
   "source": [
    "import matplotlib.pyplot as plt\n",
    "import numpy as np\n",
    "\n",
    "fig, ((fig_11, fig_12),(fig_21, fig_22)) = plt.subplots(2, 2, figsize=(15,15))\n",
    "\n",
    "histValues, edgeValues = np.histogram(pos[0], bins='auto')\n",
    "fig_11.bar(edgeValues[:-1], histValues)\n",
    "fig_11.set_title('x1 pass')\n",
    "fig_11.set_xlabel(\"Score\")\n",
    "fig_11.set_ylabel(\"Students\")\n",
    "\n",
    "histValues, edgeValues = np.histogram(neg[0], bins='auto')\n",
    "fig_12.bar(edgeValues[:-1], histValues)\n",
    "fig_12.set_title('x1 fail')\n",
    "fig_12.set_xlabel(\"Score\")\n",
    "fig_12.set_ylabel(\"Students\")\n",
    "\n",
    "histValues, edgeValues = np.histogram(pos[1], bins='auto')\n",
    "fig_21.bar(edgeValues[:-1], histValues)\n",
    "fig_21.set_title('x2 pass')\n",
    "fig_21.set_xlabel(\"Score\")\n",
    "fig_21.set_ylabel(\"Students\")\n",
    "\n",
    "histValues, edgeValues = np.histogram(neg[1], bins='auto')\n",
    "fig_22.bar(edgeValues[:-1], histValues)\n",
    "fig_22.set_title('x2 fail')\n",
    "fig_22.set_xlabel(\"Score\")\n",
    "fig_22.set_ylabel(\"Students\")\n",
    "\n",
    "plt.show()"
   ]
  },
  {
   "cell_type": "markdown",
   "metadata": {},
   "source": [
    "d) compute likelihoods\n",
    "### Question to TA: \n",
    "I really don't get why len(edgeValues) is len(histValues)-1?"
   ]
  },
  {
   "cell_type": "code",
   "execution_count": 4,
   "metadata": {},
   "outputs": [],
   "source": [
    "def likelihoodHist(x, histValues, edgeValues):\n",
    "    total_histValues = np.sum(histValues)\n",
    "\n",
    "    for i in range(len(histValues)):\n",
    "        if edgeValues[i] == x:\n",
    "            return histValues[i]/total_histValues\n",
    "        if edgeValues[i] > x:\n",
    "            return histValues[i-1]/total_histValues\n",
    "    return 0\n",
    "\n",
    "#histValues, edgeValues = np.histogram(pos[0], bins='auto')\n",
    "#for i in range(N):\n",
    "#    print(likelihoodHist(x['x1'][i], histValues, edgeValues))"
   ]
  },
  {
   "cell_type": "markdown",
   "metadata": {},
   "source": [
    "e) implement bayes rule"
   ]
  },
  {
   "cell_type": "code",
   "execution_count": 5,
   "metadata": {
    "scrolled": true
   },
   "outputs": [
    {
     "name": "stdout",
     "output_type": "stream",
     "text": [
      "x1 accuracy:  0.71\n",
      "x2 accuracy:  0.54\n",
      "x1x2 accuracy:  0.64\n"
     ]
    }
   ],
   "source": [
    "data_test = pd.read_csv('ex1-data-test.csv', names=col_id)\n",
    "data_test_x = data_train[col_id[:2]]\n",
    "data_test_y = data_train[col_id[-1:]]\n",
    "data_test_N = len(data_test_y)\n",
    "\n",
    "neg_0_histValues, neg_0_edgeValues = np.histogram(neg[0], bins='auto')\n",
    "pos_0_histValues, pos_0_edgeValues = np.histogram(pos[0], bins='auto')\n",
    "neg_1_histValues, neg_1_edgeValues = np.histogram(neg[1], bins='auto')\n",
    "pos_1_histValues, pos_1_edgeValues = np.histogram(pos[1], bins='auto')\n",
    "\n",
    "result_x1 = []\n",
    "for x in data_test_x['x1']:\n",
    "    result_x1.append(np.argmax([likelihoodHist(x, neg_0_histValues, neg_0_edgeValues) * p_c0, \n",
    "                                likelihoodHist(x, pos_0_histValues, pos_0_edgeValues) * p_c1]))\n",
    "\n",
    "result_x2 = []\n",
    "for x in data_test_x['x1']:\n",
    "    result_x2.append(np.argmax([likelihoodHist(x, neg_1_histValues, neg_1_edgeValues) * p_c0, \n",
    "                                likelihoodHist(x, pos_1_histValues, pos_1_edgeValues) * p_c1]))\n",
    "\n",
    "result_x1x2 = []\n",
    "for i in range (len(data_test_x)):\n",
    "    result_x1x2.append(np.argmax([likelihoodHist(data_test_x['x1'][i], neg_0_histValues, neg_0_edgeValues) * p_c0 * \n",
    "                                  likelihoodHist(data_test_x['x2'][i], neg_1_histValues, neg_1_edgeValues) * p_c0,\n",
    "                                  likelihoodHist(data_test_x['x1'][i], pos_0_histValues, pos_0_edgeValues) * p_c1 * \n",
    "                                  likelihoodHist(data_test_x['x2'][i], pos_1_histValues, pos_1_edgeValues) * p_c1]))\n",
    "\n",
    "print(\"x1 accuracy: \", sum(1 for x in (data_test_y['y'] == result_x1) if x)/data_test_N)\n",
    "print(\"x2 accuracy: \", sum(1 for x in (data_test_y['y'] == result_x2) if x)/data_test_N)\n",
    "print(\"x1x2 accuracy: \", sum(1 for x in (data_test_y['y'] == result_x1x2) if x)/data_test_N)\n"
   ]
  },
  {
   "cell_type": "markdown",
   "metadata": {},
   "source": [
    "- The result is scandalous.... I don't get it.. how is it even possible.. Logically the x1x2 should be the best."
   ]
  },
  {
   "cell_type": "markdown",
   "metadata": {},
   "source": [
    "### b. Bayes Gaussian Distribution"
   ]
  },
  {
   "cell_type": "code",
   "execution_count": 6,
   "metadata": {},
   "outputs": [],
   "source": [
    "def likelihoodGauss(x, mean, var):\n",
    "    return (1.0 / (var * np.sqrt(2 * np.pi)) * np.exp( - np.square(x - mean) / (2 * np.square(var)))) \n",
    "\n",
    "#print(likelihoodGauss(10, np.mean(neg[0]), np.var(neg[0])))"
   ]
  },
  {
   "cell_type": "code",
   "execution_count": 7,
   "metadata": {},
   "outputs": [],
   "source": [
    "neg_0_mean = np.mean(neg[0])\n",
    "neg_0_var = np.var(neg[0])\n",
    "\n",
    "neg_1_mean = np.mean(neg[1])\n",
    "neg_1_var = np.var(neg[1])\n",
    "\n",
    "pos_0_mean = np.mean(pos[0])\n",
    "pos_0_var = np.var(pos[0])\n",
    "\n",
    "pos_1_mean = np.mean(pos[1])\n",
    "pos_1_var = np.var(pos[1])"
   ]
  },
  {
   "cell_type": "code",
   "execution_count": 8,
   "metadata": {},
   "outputs": [
    {
     "name": "stdout",
     "output_type": "stream",
     "text": [
      "x1 accuracy:  0.6\n",
      "x2 accuracy:  0.6\n",
      "x1x2 accuracy:  0.6\n"
     ]
    }
   ],
   "source": [
    "result_x1_gauss = []\n",
    "for x in data_test_x['x1']:\n",
    "    result_x1_gauss.append(np.argmax([likelihoodGauss(x, neg_0_mean, neg_0_var) * p_c0, \n",
    "                                likelihoodGauss(x, pos_0_mean, pos_0_var) * p_c1]))\n",
    "#print(result_x1_gauss)\n",
    "\n",
    "result_x2_gauss = []\n",
    "for x in data_test_x['x1']:\n",
    "    result_x2_gauss.append(np.argmax([likelihoodGauss(x, neg_1_mean, neg_1_var) * p_c0, \n",
    "                                likelihoodGauss(x, pos_1_mean, pos_1_var) * p_c1]))\n",
    "#print(result_x2_gauss)\n",
    "\n",
    "result_x1x2_gauss = []\n",
    "for i in range (len(data_test_x)):\n",
    "    result_x1x2_gauss.append(np.argmax([likelihoodGauss(data_test_x['x1'][i], neg_0_mean, neg_0_var) * p_c0 * \n",
    "                                  likelihoodGauss(data_test_x['x2'][i], neg_1_mean, neg_1_var) * p_c0,\n",
    "                                  likelihoodGauss(data_test_x['x1'][i], pos_0_mean, pos_0_var) * p_c1 * \n",
    "                                  likelihoodGauss(data_test_x['x2'][i], pos_1_mean, pos_1_var) * p_c1]))\n",
    "#print(result_x1x2_gauss)\n",
    "\n",
    "print(\"x1 accuracy: \", sum(1 for x in (data_test_y['y'] == result_x1_gauss) if x)/data_test_N)\n",
    "print(\"x2 accuracy: \", sum(1 for x in (data_test_y['y'] == result_x2_gauss) if x)/data_test_N)\n",
    "print(\"x1x2 accuracy: \", sum(1 for x in (data_test_y['y'] == result_x1x2_gauss) if x)/data_test_N)"
   ]
  },
  {
   "cell_type": "markdown",
   "metadata": {},
   "source": [
    "- The result is still scandalous...."
   ]
  }
 ],
 "metadata": {
  "kernelspec": {
   "display_name": "Python 3",
   "language": "python",
   "name": "python3"
  },
  "language_info": {
   "codemirror_mode": {
    "name": "ipython",
    "version": 3
   },
   "file_extension": ".py",
   "mimetype": "text/x-python",
   "name": "python",
   "nbconvert_exporter": "python",
   "pygments_lexer": "ipython3",
   "version": "3.6.6"
  }
 },
 "nbformat": 4,
 "nbformat_minor": 2
}
