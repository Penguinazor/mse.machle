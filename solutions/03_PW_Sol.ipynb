{
 "cells": [
  {
   "cell_type": "markdown",
   "metadata": {
    "collapsed": true
   },
   "source": [
    "## Exercice 1 Classification system"
   ]
  },
  {
   "cell_type": "markdown",
   "metadata": {},
   "source": [
    "## a. Getting started"
   ]
  },
  {
   "cell_type": "markdown",
   "metadata": {},
   "source": [
    "a) Read the training data from file\n",
    "ex1-data-train.csv\n",
    ". The first two columns are\n",
    "x\n",
    "1\n",
    "and\n",
    "x\n",
    "2\n",
    ". The last column holds the class label\n",
    "y"
   ]
  },
  {
   "cell_type": "code",
   "execution_count": 7,
   "metadata": {},
   "outputs": [],
   "source": [
    "import numpy as np\n",
    "import matplotlib.pyplot as plt\n",
    "import pandas as pd\n",
    "from math import pi,exp\n",
    "\n",
    "%matplotlib inline\n",
    "\n",
    "your_data_path = './ex1-data-train.csv'\n",
    "\n",
    "dataset = pd.read_csv(your_data_path,names=['x1','x2','y'])\n",
    "dataset.head()\n",
    "\n",
    "# load data into variables\n",
    "x1 = dataset['x1'].values\n",
    "x2 = dataset['x2'].values\n",
    "y = dataset['y'].values\n",
    "\n",
    "# and a list for each coordinate\n",
    "x1_0 = []\n",
    "x1_1 = []\n",
    "x2_0 = []\n",
    "x2_1 = []\n",
    "\n",
    "for i in np.arange(len(x1)):\n",
    "    if y[i] == 0:\n",
    "        x1_0.append(x1[i])\n",
    "        x2_0.append(x2[i])\n",
    "    else:\n",
    "        x1_1.append(x1[i])\n",
    "        x2_1.append(x2[i])"
   ]
  },
  {
   "cell_type": "markdown",
   "metadata": {},
   "source": [
    "b) Compute the priors of both classes P(C0) and P(C1)"
   ]
  },
  {
   "cell_type": "code",
   "execution_count": 8,
   "metadata": {},
   "outputs": [
    {
     "name": "stdout",
     "output_type": "stream",
     "text": [
      "0.4 0.6\n"
     ]
    }
   ],
   "source": [
    "N = len(y)\n",
    "prior0 = 1.0 * len(x1_0) / N\n",
    "prior1 = 1.0 * len(x1_1) / N\n",
    "print(prior0, prior1)\n"
   ]
  },
  {
   "cell_type": "markdown",
   "metadata": {},
   "source": [
    "c) Compute histograms of x1 and x2 for each class (total of 4 histograms). Plot these histograms. Advice : use the numpy histogram(a,bins=’auto’) function."
   ]
  },
  {
   "cell_type": "code",
   "execution_count": 9,
   "metadata": {},
   "outputs": [
    {
     "data": {
      "image/png": "[encoded data removed]",
      "text/plain": [
       "<Figure size 432x288 with 2 Axes>"
      ]
     },
     "metadata": {},
     "output_type": "display_data"
    }
   ],
   "source": [
    "x1_0_hvals,x1_0_binedges = np.histogram(x1_0)\n",
    "x1_1_hvals,x1_1_binedges = np.histogram(x1_1)\n",
    "x2_0_hvals,x2_0_binedges = np.histogram(x2_0)\n",
    "x2_1_hvals,x2_1_binedges = np.histogram(x2_1)\n",
    "\n",
    "plt.subplot(1, 2, 1)\n",
    "plt.hist(x1_0)\n",
    "plt.hist(x1_1,color='red',alpha=0.7)\n",
    "plt.xlabel('Likelihood hist - Exam 1')\n",
    "plt.subplot(1, 2, 2)\n",
    "plt.hist(x2_0,)\n",
    "plt.hist(x2_1,color='red',alpha=0.7)\n",
    "plt.xlabel('Likelihood hist - Exam 2')\n",
    "plt.show()"
   ]
  },
  {
   "cell_type": "markdown",
   "metadata": {},
   "source": [
    "d) Use the histograms to compute the likelihoods p(x1|C0), p(x1|C1), p(x2|C0) and p(x2|C1). For this define a function likelihoodHist(x,histValues,edgeValues) that returns the likelihood of x for a given histogram (defined by its values and bin edges as returned by the numpy histogram() function)."
   ]
  },
  {
   "cell_type": "code",
   "execution_count": 13,
   "metadata": {},
   "outputs": [],
   "source": [
    "def likelihood_hist(x,histValues,edgeValues):\n",
    "    for i in np.arange(len(histValues)):\n",
    "        if (x>edgeValues[i]) and (x<=edgeValues[i+1]):\n",
    "            return 1.0 * histValues[i]\n",
    "    return 0.0000001 #out of bounds of histogram, return very small value"
   ]
  },
  {
   "cell_type": "markdown",
   "metadata": {},
   "source": [
    "e) Implement the classification decision according to Bayes rule and compute the overall accuracy of the system on the test set ex1-data-test.csv. :\n",
    "— using only feature x1\n",
    "— using only feature x2\n",
    "— using x1 and x2 making the naive Bayes hypothesis of feature independence, i.e.\n",
    "p(X|Ck) = p(x1|Ck) · p(x2|Ck) Which system is the best ?"
   ]
  },
  {
   "cell_type": "code",
   "execution_count": 14,
   "metadata": {},
   "outputs": [
    {
     "name": "stdout",
     "output_type": "stream",
     "text": [
      "error rate using x1 =  21.0\n",
      "error rate using x2 =  22.0\n",
      "error rate using x1 and x2 =  10.0\n"
     ]
    }
   ],
   "source": [
    "# using x1\n",
    "missed = 0\n",
    "for x in x1_0:\n",
    "    if prior0 * likelihood_hist(x,x1_0_hvals,x1_0_binedges) < prior1 * likelihood_hist(x,x1_1_hvals,x1_1_binedges):\n",
    "        missed+=1\n",
    "for x in x1_1:\n",
    "    if prior0 * likelihood_hist(x,x1_0_hvals,x1_0_binedges) > prior1 * likelihood_hist(x,x1_1_hvals,x1_1_binedges):\n",
    "        missed+=1\n",
    "print('error rate using x1 = ', 100.0 * missed/N)\n",
    "\n",
    "# using x2\n",
    "missed = 0\n",
    "for x in x2_0:\n",
    "    if prior0 * likelihood_hist(x,x2_0_hvals,x2_0_binedges) < prior1 * likelihood_hist(x,x2_1_hvals,x2_1_binedges):\n",
    "        missed+=1\n",
    "for x in x2_1:\n",
    "    if prior0 * likelihood_hist(x,x2_0_hvals,x2_0_binedges) > prior1 * likelihood_hist(x,x2_1_hvals,x2_1_binedges):\n",
    "        missed+=1\n",
    "print('error rate using x2 = ', 100.0 * missed/N)\n",
    "\n",
    "# using x1 and x2, naive bayes\n",
    "missed = 0\n",
    "for i in np.arange(len(x1_0)):\n",
    "    if   prior0 * likelihood_hist(x1_0[i],x1_0_hvals,x1_0_binedges) * likelihood_hist(x2_0[i],x2_0_hvals,x2_0_binedges) \\\n",
    "       < prior1 * likelihood_hist(x1_0[i],x1_1_hvals,x1_1_binedges) * likelihood_hist(x2_0[i],x2_1_hvals,x2_1_binedges):\n",
    "        missed+=1\n",
    "for i in np.arange(len(x1_1)):\n",
    "    if prior0 * likelihood_hist(x1_1[i],x1_0_hvals,x1_0_binedges) * likelihood_hist(x2_1[i],x2_0_hvals,x2_0_binedges) \\\n",
    "       > prior1 * likelihood_hist(x1_1[i],x1_1_hvals,x1_1_binedges) * likelihood_hist(x2_1[i],x2_1_hvals,x2_1_binedges):\n",
    "        missed+=1\n",
    "print('error rate using x1 and x2 = ', 100.0 * missed/N)"
   ]
  },
  {
   "cell_type": "markdown",
   "metadata": {},
   "source": [
    "The best one is when using both exams x1 and x2."
   ]
  },
  {
   "cell_type": "markdown",
   "metadata": {},
   "source": [
    "## b. Bayes - Univariate Gaussian distribution"
   ]
  },
  {
   "cell_type": "markdown",
   "metadata": {},
   "source": [
    "Do the same as in a. but this time using univariate Gaussian distribution to model the like- lihoods p(x1|C0), p(x1|C1), p(x2|C0) and p(x2|C1). You may use the numpy functions mean() and var() to compute the mean μ and variance σ2 of the distribution. To model the likeli- hood of both features, you may also do the naive Bayes hypothesis of feature independence, i.e. p(X|Ck) = p(x1|Ck) · p(x2|Ck).\n"
   ]
  },
  {
   "cell_type": "code",
   "execution_count": 17,
   "metadata": {},
   "outputs": [
    {
     "name": "stdout",
     "output_type": "stream",
     "text": [
      "0.4 0.6\n",
      "error rate using x1 =  60.0\n",
      "error rate using x2 =  25.0\n",
      "error rate using x1 and x2 =  7.0\n"
     ]
    }
   ],
   "source": [
    "def likelihood_univariate_gaussian(x, mean, var):\n",
    "    a = 1.0 / ((2.0 * pi * var)**0.5)\n",
    "    res = np.power(x - mean,2) * -((1.0)/(2.0*var))\n",
    "    res = np.exp(res)\n",
    "    res = res * a \n",
    "    return res\n",
    "\n",
    "N = len(y)\n",
    "prior0 = 1.0 * len(x1_0) / N\n",
    "prior1 = 1.0 * len(x1_1) / N\n",
    "print(prior0, prior1)\n",
    "\n",
    "# using x1\n",
    "missed = 0\n",
    "var_01 = np.var(x1_0)\n",
    "mean_01 = np.mean(x1_0)\n",
    "var_11 = np.var(x1_1)\n",
    "mean_11 = np.mean(x1_1)\n",
    "\n",
    "for x in x1_0:\n",
    "    if prior0 * likelihood_univariate_gaussian(x, mean_01, var_01) < prior1 * likelihood_univariate_gaussian(x, var_11, var_11):\n",
    "        missed += 1\n",
    "for x in x1_1:\n",
    "    if prior0 * likelihood_univariate_gaussian(x, mean_01, var_01) > prior1 * likelihood_univariate_gaussian(x, var_11, var_11):\n",
    "        missed += 1\n",
    "print('Error rate using x1 = ', 100.0 * missed/N)\n",
    "\n",
    "# using x2\n",
    "missed = 0\n",
    "var_02 = np.var(x2_0)\n",
    "mean_02 = np.mean(x2_0)\n",
    "var_12 = np.var(x2_1)\n",
    "mean_12 = np.mean(x2_1)\n",
    "\n",
    "for x in x2_0:\n",
    "    if prior0 * likelihood_univariate_gaussian(x,mean_02,var_02) < prior1 * likelihood_univariate_gaussian(x,mean_12,var_12):\n",
    "        missed+=1\n",
    "for x in x2_1:\n",
    "    if prior0 * likelihood_univariate_gaussian(x,mean_02,var_02) > prior1 * likelihood_univariate_gaussian(x,mean_12,var_12):\n",
    "        missed+=1\n",
    "print('Error rate using x2 = ', 100.0 * missed/N)\n",
    "\n",
    "# using x1 and x2, naive bayes\n",
    "missed = 0\n",
    "for i in np.arange(len(x1_0)):\n",
    "    if prior0 * likelihood_univariate_gaussian(x1_0[i],mean_01,var_01) * likelihood_univariate_gaussian(x2_0[i],mean_02,var_02) < prior1 * likelihood_univariate_gaussian(x1_0[i],mean_11,var_11) * likelihood_univariate_gaussian(x2_0[i],mean_12,var_12):\n",
    "        missed += 1\n",
    "for i in np.arange(len(x1_1)):\n",
    "    if prior0 * likelihood_univariate_gaussian(x1_1[i],mean_01,var_01) * likelihood_univariate_gaussian(x2_1[i],mean_02,var_02) > prior1 * likelihood_univariate_gaussian(x1_1[i],mean_11,var_11) * likelihood_univariate_gaussian(x2_1[i],mean_12,var_12):\n",
    "        missed += 1\n",
    "print('Error rate using x1 and x2 = ', 100.0 * missed/N)"
   ]
  },
  {
   "cell_type": "markdown",
   "metadata": {},
   "source": [
    "##Exercice 2 System evaluation"
   ]
  },
  {
   "cell_type": "code",
   "execution_count": 82,
   "metadata": {},
   "outputs": [
    {
     "data": {
      "text/html": [
       "<div>\n",
       "<style scoped>\n",
       "    .dataframe tbody tr th:only-of-type {\n",
       "        vertical-align: middle;\n",
       "    }\n",
       "\n",
       "    .dataframe tbody tr th {\n",
       "        vertical-align: top;\n",
       "    }\n",
       "\n",
       "    .dataframe thead th {\n",
       "        text-align: right;\n",
       "    }\n",
       "</style>\n",
       "<table border=\"1\" class=\"dataframe\">\n",
       "  <thead>\n",
       "    <tr style=\"text-align: right;\">\n",
       "      <th></th>\n",
       "      <th>0</th>\n",
       "      <th>1</th>\n",
       "      <th>2</th>\n",
       "      <th>3</th>\n",
       "      <th>4</th>\n",
       "      <th>5</th>\n",
       "      <th>6</th>\n",
       "      <th>7</th>\n",
       "      <th>8</th>\n",
       "      <th>9</th>\n",
       "      <th>y_true</th>\n",
       "    </tr>\n",
       "  </thead>\n",
       "  <tbody>\n",
       "    <tr>\n",
       "      <th>0</th>\n",
       "      <td>5.348450e-08</td>\n",
       "      <td>7.493480e-10</td>\n",
       "      <td>8.083470e-07</td>\n",
       "      <td>2.082290e-05</td>\n",
       "      <td>5.222360e-10</td>\n",
       "      <td>2.330260e-08</td>\n",
       "      <td>5.241270e-12</td>\n",
       "      <td>9.999650e-01</td>\n",
       "      <td>4.808590e-07</td>\n",
       "      <td>0.000013</td>\n",
       "      <td>7</td>\n",
       "    </tr>\n",
       "    <tr>\n",
       "      <th>1</th>\n",
       "      <td>1.334270e-03</td>\n",
       "      <td>3.202960e-05</td>\n",
       "      <td>8.504280e-01</td>\n",
       "      <td>1.669090e-03</td>\n",
       "      <td>1.546460e-07</td>\n",
       "      <td>2.412940e-04</td>\n",
       "      <td>1.448280e-01</td>\n",
       "      <td>1.122810e-11</td>\n",
       "      <td>1.456330e-03</td>\n",
       "      <td>0.000011</td>\n",
       "      <td>2</td>\n",
       "    </tr>\n",
       "    <tr>\n",
       "      <th>2</th>\n",
       "      <td>3.643050e-06</td>\n",
       "      <td>9.962760e-01</td>\n",
       "      <td>2.045910e-03</td>\n",
       "      <td>4.210530e-04</td>\n",
       "      <td>2.194020e-05</td>\n",
       "      <td>1.644130e-05</td>\n",
       "      <td>2.838160e-04</td>\n",
       "      <td>3.722960e-04</td>\n",
       "      <td>5.150120e-04</td>\n",
       "      <td>0.000044</td>\n",
       "      <td>1</td>\n",
       "    </tr>\n",
       "    <tr>\n",
       "      <th>3</th>\n",
       "      <td>9.998200e-01</td>\n",
       "      <td>2.550390e-10</td>\n",
       "      <td>1.112010e-05</td>\n",
       "      <td>1.653200e-05</td>\n",
       "      <td>5.375730e-10</td>\n",
       "      <td>8.999750e-05</td>\n",
       "      <td>9.380920e-06</td>\n",
       "      <td>4.464470e-05</td>\n",
       "      <td>2.418440e-06</td>\n",
       "      <td>0.000006</td>\n",
       "      <td>0</td>\n",
       "    </tr>\n",
       "    <tr>\n",
       "      <th>4</th>\n",
       "      <td>2.092460e-08</td>\n",
       "      <td>7.464220e-08</td>\n",
       "      <td>3.560820e-05</td>\n",
       "      <td>5.496200e-07</td>\n",
       "      <td>9.988960e-01</td>\n",
       "      <td>3.070920e-08</td>\n",
       "      <td>2.346150e-04</td>\n",
       "      <td>9.748010e-07</td>\n",
       "      <td>1.071610e-06</td>\n",
       "      <td>0.000831</td>\n",
       "      <td>4</td>\n",
       "    </tr>\n",
       "  </tbody>\n",
       "</table>\n",
       "</div>"
      ],
      "text/plain": [
       "<div>\n",
       "<style scoped>\n",
       "    .dataframe tbody tr th:only-of-type {\n",
       "        vertical-align: middle;\n",
       "    }\n",
       "\n",
       "    .dataframe tbody tr th {\n",
       "        vertical-align: top;\n",
       "    }\n",
       "\n",
       "    .dataframe thead th {\n",
       "        text-align: right;\n",
       "    }\n",
       "</style>\n",
       "<table border=\"1\" class=\"dataframe\">\n",
       "  <thead>\n",
       "    <tr style=\"text-align: right;\">\n",
       "      <th></th>\n",
       "      <th>0</th>\n",
       "      <th>1</th>\n",
       "      <th>2</th>\n",
       "      <th>3</th>\n",
       "      <th>4</th>\n",
       "      <th>5</th>\n",
       "      <th>6</th>\n",
       "      <th>7</th>\n",
       "      <th>8</th>\n",
       "      <th>9</th>\n",
       "      <th>y_true</th>\n",
       "    </tr>\n",
       "  </thead>\n",
       "  <tbody>\n",
       "    <tr>\n",
       "      <th>0</th>\n",
       "      <td>5.348450e-08</td>\n",
       "      <td>7.493480e-10</td>\n",
       "      <td>8.083470e-07</td>\n",
       "      <td>2.082290e-05</td>\n",
       "      <td>5.222360e-10</td>\n",
       "      <td>2.330260e-08</td>\n",
       "      <td>5.241270e-12</td>\n",
       "      <td>9.999650e-01</td>\n",
       "      <td>4.808590e-07</td>\n",
       "      <td>0.000013</td>\n",
       "      <td>7</td>\n",
       "    </tr>\n",
       "    <tr>\n",
       "      <th>1</th>\n",
       "      <td>1.334270e-03</td>\n",
       "      <td>3.202960e-05</td>\n",
       "      <td>8.504280e-01</td>\n",
       "      <td>1.669090e-03</td>\n",
       "      <td>1.546460e-07</td>\n",
       "      <td>2.412940e-04</td>\n",
       "      <td>1.448280e-01</td>\n",
       "      <td>1.122810e-11</td>\n",
       "      <td>1.456330e-03</td>\n",
       "      <td>0.000011</td>\n",
       "      <td>2</td>\n",
       "    </tr>\n",
       "    <tr>\n",
       "      <th>2</th>\n",
       "      <td>3.643050e-06</td>\n",
       "      <td>9.962760e-01</td>\n",
       "      <td>2.045910e-03</td>\n",
       "      <td>4.210530e-04</td>\n",
       "      <td>2.194020e-05</td>\n",
       "      <td>1.644130e-05</td>\n",
       "      <td>2.838160e-04</td>\n",
       "      <td>3.722960e-04</td>\n",
       "      <td>5.150120e-04</td>\n",
       "      <td>0.000044</td>\n",
       "      <td>1</td>\n",
       "    </tr>\n",
       "    <tr>\n",
       "      <th>3</th>\n",
       "      <td>9.998200e-01</td>\n",
       "      <td>2.550390e-10</td>\n",
       "      <td>1.112010e-05</td>\n",
       "      <td>1.653200e-05</td>\n",
       "      <td>5.375730e-10</td>\n",
       "      <td>8.999750e-05</td>\n",
       "      <td>9.380920e-06</td>\n",
       "      <td>4.464470e-05</td>\n",
       "      <td>2.418440e-06</td>\n",
       "      <td>0.000006</td>\n",
       "      <td>0</td>\n",
       "    </tr>\n",
       "    <tr>\n",
       "      <th>4</th>\n",
       "      <td>2.092460e-08</td>\n",
       "      <td>7.464220e-08</td>\n",
       "      <td>3.560820e-05</td>\n",
       "      <td>5.496200e-07</td>\n",
       "      <td>9.988960e-01</td>\n",
       "      <td>3.070920e-08</td>\n",
       "      <td>2.346150e-04</td>\n",
       "      <td>9.748010e-07</td>\n",
       "      <td>1.071610e-06</td>\n",
       "      <td>0.000831</td>\n",
       "      <td>4</td>\n",
       "    </tr>\n",
       "  </tbody>\n",
       "</table>\n",
       "</div>"
      ]
     },
     "execution_count": 82,
     "metadata": {},
     "output_type": "execute_result"
    }
   ],
   "source": [
    "import pandas as pd\n",
    "import numpy as np\n",
    "import matplotlib.pyplot as plt\n",
    "\n",
    "%matplotlib inline\n",
    "\n",
    "\n",
    "your_data_path = '/Users/lorenz/Documents/ML-PW-2018/PW03/ex2-system-a.csv'\n",
    "\n",
    "datasetA = pd.read_csv(your_data_path, sep=';', index_col=False, names=['0','1','2','3','4','5','6','7','8','9','y_true'])\n",
    "class_names = ['0','1','2','3','4','5','6','7','8','9']\n",
    "nb_classes = len(class_names)\n",
    "\n",
    "datasetA.head()\n"
   ]
  },
  {
   "cell_type": "markdown",
   "metadata": {},
   "source": [
    "a) Write a function to take classification decisions on such outputs according to Bayes’rule."
   ]
  },
  {
   "cell_type": "code",
   "execution_count": 84,
   "metadata": {},
   "outputs": [],
   "source": [
    "def a_posteriori_probability(df):\n",
    "    y_true = df['y_true'].values\n",
    "    nb_classes = np.unique(y_true).size\n",
    "    # counting label apparition\n",
    "    label_count = np.array([(df['y_true'] == i).sum() for i in range(0,nb_classes)],dtype=np.float64)\n",
    "\n",
    "    # a priori probability for each class\n",
    "    a_priori = (label_count / label_count.sum())\n",
    "    \n",
    "    \n",
    "    \n",
    "    # likelihoods\n",
    "    likelihoods = df[class_names].values\n",
    "    \n",
    "    a_posteriori = [l * a_priori for l in likelihoods]\n",
    "    a_posteriori_label = np.argmax(a_posteriori,axis=1)\n",
    "    return a_posteriori_label\n",
    "\n",
    "\n",
    "y_pred_A = a_posteriori_probability(datasetA)\n",
    "y_true = datasetA['y_true'].values"
   ]
  },
  {
   "cell_type": "markdown",
   "metadata": {},
   "source": [
    "b) What is the overall error rate of the system ?"
   ]
  },
  {
   "cell_type": "code",
   "execution_count": 86,
   "metadata": {},
   "outputs": [
    {
     "name": "stdout",
     "output_type": "stream",
     "text": [
      "Overall rate of the system :  0.8925\n"
     ]
    }
   ],
   "source": [
    "overall_error_rate = 1 - ((y_pred_A == y_true).sum() * 1.0) / y_true.size\n",
    "print('Overall rate of the system : ', overall_error_rate)"
   ]
  },
  {
   "cell_type": "markdown",
   "metadata": {},
   "source": [
    "c) Compute and report the confusion matrix of the system."
   ]
  },
  {
   "cell_type": "code",
   "execution_count": 95,
   "metadata": {},
   "outputs": [
    {
     "name": "stdout",
     "output_type": "stream",
     "text": [
      "True\n"
     ]
    }
   ],
   "source": [
    "from sklearn.metrics import confusion_matrix\n",
    "verif_cm = confusion_matrix(y_true,y_pred_A)\n",
    "\n",
    "def confusion_matrix2(y_true, y_pred, nb_classes):\n",
    "    m = [[0] * nb_classes for i in range(nb_classes)]\n",
    "    for pred, exp in zip(y_pred, y_true):\n",
    "        m[pred][exp] += 1\n",
    "    return np.array(m)\n",
    "\n",
    "cm_A = confusion_matrix2(y_pred_A,y_true,nb_classes)\n",
    "# verification for our confusion matrix function\n",
    "print((cm_A == verif_cm).sum() == nb_classes**2)\n"
   ]
  },
  {
   "cell_type": "code",
   "execution_count": 111,
   "metadata": {},
   "outputs": [
    {
     "data": {
      "image/png": "[encoded data removed]",
      "text/plain": [
       "<Figure size 432x288 with 2 Axes>"
      ]
     },
     "metadata": {},
     "output_type": "display_data"
    },
    {
     "data": {
      "image/png": "[encoded data removed]",
      "text/plain": [
       "<Figure size 432x288 with 2 Axes>"
      ]
     },
     "metadata": {},
     "output_type": "display_data"
    }
   ],
   "source": [
    "def plot_confusion_matrix(cm, classes,\n",
    "                          normalize=False,\n",
    "                          title='Confusion matrix',\n",
    "                          cmap=plt.cm.Blues):\n",
    "    \"\"\"\n",
    "    This function prints and plots the confusion matrix.\n",
    "    Normalization can be applied by setting `normalize=True`.\n",
    "    \"\"\"\n",
    "    if normalize:\n",
    "        cm = cm.astype('float') / cm.sum(axis=1)[:, np.newaxis]\n",
    "    \n",
    "    plt.imshow(cm, interpolation='nearest', cmap=cmap)\n",
    "    plt.title(title)\n",
    "    plt.colorbar()\n",
    "    tick_marks = np.arange(len(classes))\n",
    "    plt.xticks(tick_marks, classes, rotation=45)\n",
    "    plt.yticks(tick_marks, classes)\n",
    "\n",
    "    plt.tight_layout()\n",
    "    plt.ylabel('True label')\n",
    "    plt.xlabel('Predicted label')\n",
    "    \n",
    "plt.figure()\n",
    "plot_confusion_matrix(cm_A, classes=class_names,title='Confusion matrix for System A, without normalization')\n",
    "\n",
    "plt.figure()\n",
    "plot_confusion_matrix(cm_A, classes=class_names, normalize=True,\n",
    "                      title='Normalized confusion matrix for System B')\n",
    "\n",
    "plt.show()"
   ]
  },
  {
   "cell_type": "markdown",
   "metadata": {},
   "source": [
    "d) What are the worst and best classes in terms of precision and recall ?"
   ]
  },
  {
   "cell_type": "code",
   "execution_count": 97,
   "metadata": {},
   "outputs": [],
   "source": [
    "def recall_per_class(cm):\n",
    "    end = cm.shape[0]\n",
    "    tp = np.array([cm[i,i] for i in range (0,cm.shape[0])],dtype=np.float64)\n",
    "    fn = np.array([(cm[i,np.r_[0:i,(i+1):end]]).sum() for i in range(0,cm.shape[0])],dtype=np.float64)\n",
    "    return tp / (tp + fn)"
   ]
  },
  {
   "cell_type": "code",
   "execution_count": 98,
   "metadata": {},
   "outputs": [
    {
     "name": "stdout",
     "output_type": "stream",
     "text": [
      "best class :  1 [ 0.9806167400881057 ]\n",
      "worst class :  8 [ 0.7885010266940452 ]\n",
      "[0.96326531 0.98061674 0.89437984 0.85544554 0.92566191 0.85762332\n",
      " 0.90292276 0.9036965  0.78850103 0.83746283]\n"
     ]
    }
   ],
   "source": [
    "recalls = recall_per_class(cm_A)\n",
    "\n",
    "best_class = np.argmax(recalls)\n",
    "worst_class = np.argmin(recalls)\n",
    "print('best class : ',best_class,'[',recalls[best_class],']')\n",
    "print('worst class : ',worst_class,'[',recalls[worst_class],']')\n",
    "print(recalls)"
   ]
  },
  {
   "cell_type": "markdown",
   "metadata": {},
   "source": [
    "e) In file ex1-system-b.csv you find the output of a second system B. What is the best system between (a) and (b) in terms of error rate and F1."
   ]
  },
  {
   "cell_type": "code",
   "execution_count": 103,
   "metadata": {},
   "outputs": [
    {
     "data": {
      "text/html": [
       "<div>\n",
       "<style scoped>\n",
       "    .dataframe tbody tr th:only-of-type {\n",
       "        vertical-align: middle;\n",
       "    }\n",
       "\n",
       "    .dataframe tbody tr th {\n",
       "        vertical-align: top;\n",
       "    }\n",
       "\n",
       "    .dataframe thead th {\n",
       "        text-align: right;\n",
       "    }\n",
       "</style>\n",
       "<table border=\"1\" class=\"dataframe\">\n",
       "  <thead>\n",
       "    <tr style=\"text-align: right;\">\n",
       "      <th></th>\n",
       "      <th>0</th>\n",
       "      <th>1</th>\n",
       "      <th>2</th>\n",
       "      <th>3</th>\n",
       "      <th>4</th>\n",
       "      <th>5</th>\n",
       "      <th>6</th>\n",
       "      <th>7</th>\n",
       "      <th>8</th>\n",
       "      <th>9</th>\n",
       "      <th>y_true</th>\n",
       "    </tr>\n",
       "  </thead>\n",
       "  <tbody>\n",
       "    <tr>\n",
       "      <th>0</th>\n",
       "      <td>1.675320e-11</td>\n",
       "      <td>2.584750e-11</td>\n",
       "      <td>1.796600e-07</td>\n",
       "      <td>1.229790e-05</td>\n",
       "      <td>6.932370e-16</td>\n",
       "      <td>2.499490e-11</td>\n",
       "      <td>3.506180e-16</td>\n",
       "      <td>9.999870e-01</td>\n",
       "      <td>9.081160e-11</td>\n",
       "      <td>1.482410e-09</td>\n",
       "      <td>7</td>\n",
       "    </tr>\n",
       "    <tr>\n",
       "      <th>1</th>\n",
       "      <td>2.348330e-08</td>\n",
       "      <td>1.081260e-06</td>\n",
       "      <td>9.999700e-01</td>\n",
       "      <td>2.765590e-05</td>\n",
       "      <td>3.209940e-12</td>\n",
       "      <td>4.008910e-09</td>\n",
       "      <td>1.594070e-06</td>\n",
       "      <td>3.191980e-12</td>\n",
       "      <td>1.573330e-07</td>\n",
       "      <td>9.856860e-12</td>\n",
       "      <td>2</td>\n",
       "    </tr>\n",
       "    <tr>\n",
       "      <th>2</th>\n",
       "      <td>5.653110e-09</td>\n",
       "      <td>9.997150e-01</td>\n",
       "      <td>2.231520e-04</td>\n",
       "      <td>6.524200e-06</td>\n",
       "      <td>4.818190e-07</td>\n",
       "      <td>1.273150e-07</td>\n",
       "      <td>2.173000e-06</td>\n",
       "      <td>1.416840e-05</td>\n",
       "      <td>3.833510e-05</td>\n",
       "      <td>6.327910e-08</td>\n",
       "      <td>1</td>\n",
       "    </tr>\n",
       "    <tr>\n",
       "      <th>3</th>\n",
       "      <td>9.999860e-01</td>\n",
       "      <td>1.825320e-10</td>\n",
       "      <td>9.027630e-06</td>\n",
       "      <td>8.147850e-09</td>\n",
       "      <td>7.237800e-12</td>\n",
       "      <td>3.341060e-09</td>\n",
       "      <td>1.152500e-06</td>\n",
       "      <td>3.915740e-06</td>\n",
       "      <td>7.381230e-11</td>\n",
       "      <td>4.782200e-08</td>\n",
       "      <td>0</td>\n",
       "    </tr>\n",
       "    <tr>\n",
       "      <th>4</th>\n",
       "      <td>1.349270e-08</td>\n",
       "      <td>2.039600e-10</td>\n",
       "      <td>3.194220e-07</td>\n",
       "      <td>1.773480e-10</td>\n",
       "      <td>9.996150e-01</td>\n",
       "      <td>1.231720e-08</td>\n",
       "      <td>2.821290e-07</td>\n",
       "      <td>2.402690e-06</td>\n",
       "      <td>1.690530e-08</td>\n",
       "      <td>3.820520e-04</td>\n",
       "      <td>4</td>\n",
       "    </tr>\n",
       "  </tbody>\n",
       "</table>\n",
       "</div>"
      ],
      "text/plain": [
       "<div>\n",
       "<style scoped>\n",
       "    .dataframe tbody tr th:only-of-type {\n",
       "        vertical-align: middle;\n",
       "    }\n",
       "\n",
       "    .dataframe tbody tr th {\n",
       "        vertical-align: top;\n",
       "    }\n",
       "\n",
       "    .dataframe thead th {\n",
       "        text-align: right;\n",
       "    }\n",
       "</style>\n",
       "<table border=\"1\" class=\"dataframe\">\n",
       "  <thead>\n",
       "    <tr style=\"text-align: right;\">\n",
       "      <th></th>\n",
       "      <th>0</th>\n",
       "      <th>1</th>\n",
       "      <th>2</th>\n",
       "      <th>3</th>\n",
       "      <th>4</th>\n",
       "      <th>5</th>\n",
       "      <th>6</th>\n",
       "      <th>7</th>\n",
       "      <th>8</th>\n",
       "      <th>9</th>\n",
       "      <th>y_true</th>\n",
       "    </tr>\n",
       "  </thead>\n",
       "  <tbody>\n",
       "    <tr>\n",
       "      <th>0</th>\n",
       "      <td>1.675320e-11</td>\n",
       "      <td>2.584750e-11</td>\n",
       "      <td>1.796600e-07</td>\n",
       "      <td>1.229790e-05</td>\n",
       "      <td>6.932370e-16</td>\n",
       "      <td>2.499490e-11</td>\n",
       "      <td>3.506180e-16</td>\n",
       "      <td>9.999870e-01</td>\n",
       "      <td>9.081160e-11</td>\n",
       "      <td>1.482410e-09</td>\n",
       "      <td>7</td>\n",
       "    </tr>\n",
       "    <tr>\n",
       "      <th>1</th>\n",
       "      <td>2.348330e-08</td>\n",
       "      <td>1.081260e-06</td>\n",
       "      <td>9.999700e-01</td>\n",
       "      <td>2.765590e-05</td>\n",
       "      <td>3.209940e-12</td>\n",
       "      <td>4.008910e-09</td>\n",
       "      <td>1.594070e-06</td>\n",
       "      <td>3.191980e-12</td>\n",
       "      <td>1.573330e-07</td>\n",
       "      <td>9.856860e-12</td>\n",
       "      <td>2</td>\n",
       "    </tr>\n",
       "    <tr>\n",
       "      <th>2</th>\n",
       "      <td>5.653110e-09</td>\n",
       "      <td>9.997150e-01</td>\n",
       "      <td>2.231520e-04</td>\n",
       "      <td>6.524200e-06</td>\n",
       "      <td>4.818190e-07</td>\n",
       "      <td>1.273150e-07</td>\n",
       "      <td>2.173000e-06</td>\n",
       "      <td>1.416840e-05</td>\n",
       "      <td>3.833510e-05</td>\n",
       "      <td>6.327910e-08</td>\n",
       "      <td>1</td>\n",
       "    </tr>\n",
       "    <tr>\n",
       "      <th>3</th>\n",
       "      <td>9.999860e-01</td>\n",
       "      <td>1.825320e-10</td>\n",
       "      <td>9.027630e-06</td>\n",
       "      <td>8.147850e-09</td>\n",
       "      <td>7.237800e-12</td>\n",
       "      <td>3.341060e-09</td>\n",
       "      <td>1.152500e-06</td>\n",
       "      <td>3.915740e-06</td>\n",
       "      <td>7.381230e-11</td>\n",
       "      <td>4.782200e-08</td>\n",
       "      <td>0</td>\n",
       "    </tr>\n",
       "    <tr>\n",
       "      <th>4</th>\n",
       "      <td>1.349270e-08</td>\n",
       "      <td>2.039600e-10</td>\n",
       "      <td>3.194220e-07</td>\n",
       "      <td>1.773480e-10</td>\n",
       "      <td>9.996150e-01</td>\n",
       "      <td>1.231720e-08</td>\n",
       "      <td>2.821290e-07</td>\n",
       "      <td>2.402690e-06</td>\n",
       "      <td>1.690530e-08</td>\n",
       "      <td>3.820520e-04</td>\n",
       "      <td>4</td>\n",
       "    </tr>\n",
       "  </tbody>\n",
       "</table>\n",
       "</div>"
      ]
     },
     "execution_count": 103,
     "metadata": {},
     "output_type": "execute_result"
    }
   ],
   "source": [
    "# load data\n",
    "your_data_path = '/Users/lorenz/Documents/ML-PW-2018/PW03/ex2-system-b.csv'\n",
    "\n",
    "datasetB = pd.read_csv(your_data_path, sep=';', index_col=False, names=['0','1','2','3','4','5','6','7','8','9','y_true'])\n",
    "datasetB.head()"
   ]
  },
  {
   "cell_type": "code",
   "execution_count": 110,
   "metadata": {},
   "outputs": [
    {
     "data": {
      "image/png": "[encoded data removed]",
      "text/plain": [
       "<Figure size 432x288 with 2 Axes>"
      ]
     },
     "metadata": {},
     "output_type": "display_data"
    },
    {
     "data": {
      "image/png": "[encoded data removed]",
      "text/plain": [
       "<Figure size 432x288 with 2 Axes>"
      ]
     },
     "metadata": {},
     "output_type": "display_data"
    }
   ],
   "source": [
    "y_pred_B = a_posteriori_probability(datasetB)\n",
    "cm_B = confusion_matrix2(y_pred_B,y_true,nb_classes)\n",
    "\n",
    "plt.figure()\n",
    "plot_confusion_matrix(cm_B, classes=class_names,title='Confusion matrix for System B, without normalization')\n",
    "\n",
    "plt.figure()\n",
    "plot_confusion_matrix(cm_B, classes=class_names, normalize=True,\n",
    "                      title='Normalized confusion matrix for System B')\n",
    "\n",
    "plt.show()"
   ]
  },
  {
   "cell_type": "code",
   "execution_count": 106,
   "metadata": {},
   "outputs": [],
   "source": [
    "def system_precision(cm):\n",
    "    tp = np.array([cm[i,i] for i in range (0,cm.shape[0])],dtype=np.float64).sum()\n",
    "    fp = np.sum([(cm[i,0:i]).sum() for i in range(0,cm.shape[0])])\n",
    "    return tp / (tp + fp)\n",
    "\n",
    "\n",
    "def system_recall(cm):\n",
    "    tp = np.array([cm[i,i] for i in range (0,cm.shape[0])],dtype=np.float64).sum()\n",
    "    fn = np.sum([(cm[i,i+1:cm.shape[0]]).sum() for i in range(0,cm.shape[0])])\n",
    "    return tp / (tp + fn)\n",
    "\n",
    "\n",
    "def system_accuracy(cm):\n",
    "    # sum of the diagonal\n",
    "    tp = np.array([cm[i,i] for i in range (0,cm.shape[0])],dtype=np.float64).sum()\n",
    "    return tp / cm.sum()\n",
    "   \n",
    "    \n",
    "def f1_score(cm):\n",
    "    precision = system_precision(cm)\n",
    "    recall = system_recall(cm)\n",
    "    return 2 * ((precision * recall)/(precision + recall))"
   ]
  },
  {
   "cell_type": "code",
   "execution_count": 107,
   "metadata": {},
   "outputs": [
    {
     "name": "stdout",
     "output_type": "stream",
     "text": [
      "System A\n",
      "\trecall :  0.9536275243081526 \n",
      "\tprecision :  0.932991846121681 \n",
      "\taccuracy :  0.8925 \n",
      "\tf1-score :  0.9431968295904888\n",
      "System B\n",
      "\trecall :  0.984533442589368 \n",
      "\tprecision :  0.9759366433140421 \n",
      "\taccuracy :  0.9612 \n",
      "\tf1-score :  0.9802161941668367\n"
     ]
    }
   ],
   "source": [
    "print('System A\\n\\trecall : ',system_recall(cm_A),'\\n\\tprecision : ',system_precision(cm_A),'\\n\\taccuracy : ',system_accuracy(cm_A),'\\n\\tf1-score : ',f1_score(cm_A))\n",
    "print('System B\\n\\trecall : ',system_recall(cm_B),'\\n\\tprecision : ',system_precision(cm_B),'\\n\\taccuracy : ',system_accuracy(cm_B),'\\n\\tf1-score : ',f1_score(cm_B))"
   ]
  },
  {
   "cell_type": "markdown",
   "metadata": {},
   "source": [
    "System B is has the higher scores and accuracy. "
   ]
  },
  {
   "cell_type": "markdown",
   "metadata": {},
   "source": [
    "## Exercice 3 System evaluation"
   ]
  },
  {
   "cell_type": "markdown",
   "metadata": {},
   "source": [
    "a) How would you build a Bayesian classification for the same task ? Comment on the prior probabilities and on the likelihood estimators. More specifically, what kind of estimator could we use in this case ?\n"
   ]
  },
  {
   "cell_type": "markdown",
   "metadata": {},
   "source": [
    "I will try a naive bayes, where all prixels are independend. This is a strong assumbtion and probably not true for a picture. \n",
    "Prior probabilities should not matter as long as I do not choose 0 or 1 (never do that!)."
   ]
  },
  {
   "cell_type": "markdown",
   "metadata": {},
   "source": [
    "b) Optional : implement it and report performance !"
   ]
  },
  {
   "cell_type": "code",
   "execution_count": 94,
   "metadata": {
    "collapsed": true
   },
   "outputs": [],
   "source": [
    "import pandas as pd\n",
    "import numpy as np\n",
    "import os\n",
    "from scipy.stats import multivariate_normal as MVN\n",
    "\n",
    "your_data_path = '/Users/lorenz/Documents/ML-PW-2018/PW03/mnist/'\n",
    "\n",
    "def load_MNIST(ROOT):\n",
    "  '''load all of mnist\n",
    "  training set first'''\n",
    "  Xtr = []\n",
    "  train = pd.read_csv(os.path.join(ROOT, 'mnist_train.csv'))\n",
    "  X = np.array(train.drop('label', axis=1))\n",
    "  Ytr = np.array(train['label'])\n",
    "  # With this for-loop we give the data a shape of the acctual image (28x28)\n",
    "  # instead of the shape in file (1x784)\n",
    "  for row in X:\n",
    "      Xtr.append(row.reshape(28,28))\n",
    "  # load test set second\n",
    "  Xte = []\n",
    "  test = pd.read_csv(os.path.join(ROOT, 'mnist_test.csv'))\n",
    "  X = np.array(test.drop('label', axis=1))\n",
    "  Yte = np.array(test['label'])\n",
    "  # same reshaping\n",
    "  for row in X:\n",
    "      Xte.append(row.reshape(28,28))\n",
    "  \n",
    "  return np.array(Xtr), np.array(Ytr), np.array(Xte), np.array(Yte)\n"
   ]
  },
  {
   "cell_type": "code",
   "execution_count": 95,
   "metadata": {},
   "outputs": [],
   "source": [
    "X_train, y_train, X_test, y_test = load_MNIST(your_data_path)"
   ]
  },
  {
   "cell_type": "code",
   "execution_count": 207,
   "metadata": {},
   "outputs": [],
   "source": [
    "def calculate_mean_and_var(X, Y, s = 0.0001):\n",
    "    labels = set(Y)\n",
    "    gaussians = {}  \n",
    "    prior = {}\n",
    "    for label in labels:\n",
    "        x = X[Y == label]\n",
    "        gaussians[label] = {'mean': x.mean(axis=0),\n",
    "                          'var': x.var(axis=0) + s,\n",
    "                            }\n",
    "        prior[label] = float(len(Y[Y == key]) / len(Y))\n",
    "        \n",
    "    return gaussians, prior\n",
    "    \n",
    "\n",
    "class_gaussians, count_prior = calculate_mean_and_var(X_train, y_train)\n",
    "\n",
    "\n"
   ]
  },
  {
   "cell_type": "code",
   "execution_count": 196,
   "metadata": {},
   "outputs": [
    {
     "data": {
      "image/png": "[encoded data removed]",
      "text/plain": [
       "<Figure size 360x360 with 1 Axes>"
      ]
     },
     "metadata": {},
     "output_type": "display_data"
    },
    {
     "data": {
      "image/png": "[encoded data removed]",
      "text/plain": [
       "<Figure size 360x360 with 1 Axes>"
      ]
     },
     "metadata": {},
     "output_type": "display_data"
    },
    {
     "data": {
      "image/png": "[encoded data removed]",
      "text/plain": [
       "<Figure size 360x360 with 1 Axes>"
      ]
     },
     "metadata": {},
     "output_type": "display_data"
    },
    {
     "data": {
      "image/png": "[encoded data removed]",
      "text/plain": [
       "<Figure size 360x360 with 1 Axes>"
      ]
     },
     "metadata": {},
     "output_type": "display_data"
    },
    {
     "data": {
      "image/png": "[encoded data removed]",
      "text/plain": [
       "<Figure size 360x360 with 1 Axes>"
      ]
     },
     "metadata": {},
     "output_type": "display_data"
    },
    {
     "data": {
      "image/png": "[encoded data removed]",
      "text/plain": [
       "<Figure size 360x360 with 1 Axes>"
      ]
     },
     "metadata": {},
     "output_type": "display_data"
    },
    {
     "data": {
      "image/png": "[encoded data removed]",
      "text/plain": [
       "<Figure size 360x360 with 1 Axes>"
      ]
     },
     "metadata": {},
     "output_type": "display_data"
    },
    {
     "data": {
      "image/png": "[encoded data removed]",
      "text/plain": [
       "<Figure size 360x360 with 1 Axes>"
      ]
     },
     "metadata": {},
     "output_type": "display_data"
    },
    {
     "data": {
      "image/png": "[encoded data removed]",
      "text/plain": [
       "<Figure size 360x360 with 1 Axes>"
      ]
     },
     "metadata": {},
     "output_type": "display_data"
    },
    {
     "data": {
      "image/png": "[encoded data removed]",
      "text/plain": [
       "<Figure size 360x360 with 1 Axes>"
      ]
     },
     "metadata": {},
     "output_type": "display_data"
    }
   ],
   "source": [
    "\n",
    "import matplotlib.pyplot as plt\n",
    "%matplotlib inline\n",
    "plt.rcParams['figure.figsize'] = (5.0, 5.0)\n",
    "\n",
    "# lets have a look at what the \"mean\" of the numbers look like\n",
    "for key in class_gaussians: \n",
    "    plt.imshow(class_gaussians[key]['mean'].astype('uint8'))\n",
    "    plt.show()\n",
    "\n"
   ]
  },
  {
   "cell_type": "code",
   "execution_count": 204,
   "metadata": {},
   "outputs": [],
   "source": [
    "def predict_class(X, gaussians, prior):\n",
    "    X = np.reshape(X, (X.shape[0], -1))\n",
    "    N = len(X)\n",
    "    K = len(gaussians)\n",
    "    predict = np.zeros((N, K))\n",
    "    for key, value in gaussians.items():\n",
    "        mean, var = value['mean'], value['var']\n",
    "        # we flatten the \"mean\" and \"var\" for MVN\n",
    "        mean = [i for x in mean for i in x]\n",
    "        var = [i for x in var for i in x]\n",
    "        if isinstance(prior, float):\n",
    "            predict[:,key] = MVN.logpdf(X, mean, var) + prior\n",
    "        else:\n",
    "            predict[:,key] = MVN.logpdf(X, mean, var) + prior[key]\n",
    "    return np.argmax(predict, axis=1)\n",
    "\n"
   ]
  },
  {
   "cell_type": "code",
   "execution_count": 220,
   "metadata": {},
   "outputs": [
    {
     "name": "stdout",
     "output_type": "stream",
     "text": [
      "We get an accuracy of 0.571 in the test set\n"
     ]
    }
   ],
   "source": [
    "prior_mnist = 0.1 \n",
    "# I assume that random numbers from 0 - 9 are equally probably\n",
    "# We learned in class, that the prior should be overcome by the data. \n",
    "\n",
    "test_predict = predict_class(X_test, class_gaussians, prior_mnist)\n",
    "test_score = np.mean(test_predict == y_test)\n",
    "\n",
    "print('We get an accuracy of %s in the test set' % (test_score))"
   ]
  },
  {
   "cell_type": "code",
   "execution_count": 219,
   "metadata": {},
   "outputs": [
    {
     "name": "stdout",
     "output_type": "stream",
     "text": [
      "We get an accuracy of 0.571 in the test set. A different prior does not help (what we expect)\n"
     ]
    }
   ],
   "source": [
    "# Here I try with the prior that was counted \n",
    "test_predict = predict_class(X_test, class_gaussians, count_prior)\n",
    "test_score = np.mean(test_predict == y_test)\n",
    "\n",
    "print('We get an accuracy of %s in the test set. A different prior does not help (what we expect)' % (test_score))"
   ]
  },
  {
   "cell_type": "markdown",
   "metadata": {},
   "source": [
    "We can see that the classification is not very good. This can be due to a mistake in my implementation, that I can not find. Or if could mean, that the naive gaussian approach is not very good.\n"
   ]
  },
  {
   "cell_type": "code",
   "execution_count": 215,
   "metadata": {},
   "outputs": [],
   "source": []
  },
  {
   "cell_type": "code",
   "execution_count": null,
   "metadata": {},
   "outputs": [],
   "source": []
  }
 ],
 "metadata": {
  "kernelspec": {
   "display_name": "Python 3",
   "language": "python",
   "name": "python3"
  },
  "language_info": {
   "codemirror_mode": {
    "name": "ipython",
    "version": 3
   },
   "file_extension": ".py",
   "mimetype": "text/x-python",
   "name": "python",
   "nbconvert_exporter": "python",
   "pygments_lexer": "ipython3",
   "version": "3.6.6"
  }
 },
 "nbformat": 4,
 "nbformat_minor": 1
}
