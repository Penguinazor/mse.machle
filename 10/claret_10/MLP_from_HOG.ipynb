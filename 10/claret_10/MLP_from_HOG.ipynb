{
  "nbformat": 4,
  "nbformat_minor": 0,
  "metadata": {
    "colab": {
      "name": "MLP_from_HOG.ipynb",
      "version": "0.3.2",
      "provenance": [],
      "collapsed_sections": []
    },
    "kernelspec": {
      "name": "python3",
      "display_name": "Python 3"
    },
    "accelerator": "GPU"
  },
  "cells": [
    {
      "metadata": {
        "id": "X_wPegydbafH",
        "colab_type": "text"
      },
      "cell_type": "markdown",
      "source": [
        "# Computing features to train a MLP\n",
        "This notebook will guide you through the use of the `keras` package to train a multilayer perceptron for handwritten digits classification. You are going to computing the histogram of gradients from the images in the `mnist` dataset (LeCun et al. 1998)"
      ]
    },
    {
      "metadata": {
        "id": "61oGWRyMbafJ",
        "colab_type": "text"
      },
      "cell_type": "markdown",
      "source": [
        "## Loading the packages"
      ]
    },
    {
      "metadata": {
        "id": "duI9Ar-8bafS",
        "colab_type": "code",
        "outputId": "de26e58a-b400-4d04-b9c6-288483ff2ba9",
        "colab": {
          "base_uri": "https://localhost:8080/",
          "height": 34
        }
      },
      "cell_type": "code",
      "source": [
        "import numpy as np\n",
        "from matplotlib import pyplot as pl\n",
        "\n",
        "from skimage.feature import hog\n",
        "from skimage import data, color, exposure\n",
        "\n",
        "from keras.datasets import mnist\n",
        "from keras.models import Sequential\n",
        "from keras.layers.core import Dense, Dropout\n",
        "from keras.optimizers import RMSprop\n",
        "from keras.utils import np_utils\n",
        "from sklearn import metrics as me\n",
        "\n",
        "%matplotlib inline"
      ],
      "execution_count": 1,
      "outputs": [
        {
          "output_type": "stream",
          "text": [
            "Using TensorFlow backend.\n"
          ],
          "name": "stderr"
        }
      ]
    },
    {
      "metadata": {
        "id": "KpPmUqiRbafz",
        "colab_type": "text"
      },
      "cell_type": "markdown",
      "source": [
        "Load the `mnist` dataset and normalize in the range [0, 1]"
      ]
    },
    {
      "metadata": {
        "id": "verKKFaFbaf6",
        "colab_type": "code",
        "outputId": "c96d6749-3676-4be9-bc40-74a11b58380a",
        "colab": {
          "base_uri": "https://localhost:8080/",
          "height": 86
        }
      },
      "cell_type": "code",
      "source": [
        "(X_train, y_train), (X_test, y_test) = mnist.load_data()\n",
        "\n",
        "n_train, height, width = X_train.shape\n",
        "n_test, _, _ = X_test.shape\n",
        "\n",
        "X_train = X_train.reshape(n_train, height, width, 1).astype('float32')\n",
        "X_test = X_test.reshape(n_test, height, width, 1).astype('float32')\n",
        "\n",
        "X_train /= 255.0\n",
        "X_test /= 255.0\n",
        "\n",
        "n_classes = 10\n",
        "\n",
        "print(n_train, 'train samples')\n",
        "print(n_test, 'test samples')\n",
        "\n",
        "# convert class vectors to binary class matrices\n",
        "Y_train = np_utils.to_categorical(y_train, n_classes)\n",
        "Y_test = np_utils.to_categorical(y_test, n_classes)"
      ],
      "execution_count": 2,
      "outputs": [
        {
          "output_type": "stream",
          "text": [
            "Downloading data from https://s3.amazonaws.com/img-datasets/mnist.npz\n",
            "11493376/11490434 [==============================] - 1s 0us/step\n",
            "60000 train samples\n",
            "10000 test samples\n"
          ],
          "name": "stdout"
        }
      ]
    },
    {
      "metadata": {
        "id": "TazeB7LLbagE",
        "colab_type": "text"
      },
      "cell_type": "markdown",
      "source": [
        "### An example of how to compute the histogram of gradients\n",
        "Let's compute the HOG for one image in the test dataset"
      ]
    },
    {
      "metadata": {
        "id": "cL-609oKbagI",
        "colab_type": "code",
        "colab": {}
      },
      "cell_type": "code",
      "source": [
        "n_orientations = 8\n",
        "pix_p_cell = 4\n",
        "hog_size = int(height * width * n_orientations / (pix_p_cell * pix_p_cell))"
      ],
      "execution_count": 0,
      "outputs": []
    },
    {
      "metadata": {
        "id": "r2DA2Da_bage",
        "colab_type": "code",
        "outputId": "2228c4d6-e6bc-4095-d277-15a37dc205fd",
        "colab": {
          "base_uri": "https://localhost:8080/",
          "height": 72
        }
      },
      "cell_type": "code",
      "source": [
        "fd, hog_image = hog(X_test[0,:,:,0], orientations=n_orientations, pixels_per_cell=(pix_p_cell, pix_p_cell), cells_per_block=(1, 1), visualise=True)\n",
        "hog_image_rescaled = exposure.rescale_intensity(hog_image, in_range=(0, 0.02))"
      ],
      "execution_count": 4,
      "outputs": [
        {
          "output_type": "stream",
          "text": [
            "/usr/local/lib/python3.6/dist-packages/skimage/feature/_hog.py:119: skimage_deprecation: Default value of `block_norm`==`L1` is deprecated and will be changed to `L2-Hys` in v0.15\n",
            "  'be changed to `L2-Hys` in v0.15', skimage_deprecation)\n"
          ],
          "name": "stderr"
        }
      ]
    },
    {
      "metadata": {
        "id": "s2Ow4uJtbago",
        "colab_type": "text"
      },
      "cell_type": "markdown",
      "source": [
        "Show the image and the corresponding gradients"
      ]
    },
    {
      "metadata": {
        "id": "83RZeljKbagu",
        "colab_type": "code",
        "outputId": "78a1a4d5-3cb9-4a3e-cf71-dc208c330482",
        "colab": {
          "base_uri": "https://localhost:8080/",
          "height": 389
        }
      },
      "cell_type": "code",
      "source": [
        "fig, (ax1, ax2) = pl.subplots(1, 2, figsize=(12, 6), sharex=True, sharey=True)\n",
        "ax1.axis('off')\n",
        "ax1.imshow(X_test[0,:,:,0], cmap=pl.get_cmap('Greys'), interpolation='nearest')\n",
        "ax1.set_title('Input image')\n",
        "ax1.set_adjustable('box-forced')\n",
        "\n",
        "ax2.axis('off')\n",
        "ax2.imshow(hog_image_rescaled, cmap=pl.get_cmap('Greys'), interpolation='nearest')\n",
        "ax2.set_title('Histogram of Oriented Gradients')\n",
        "ax1.set_adjustable('box-forced')"
      ],
      "execution_count": 5,
      "outputs": [
        {
          "output_type": "display_data",
          "data": {
            "image/png": "[encoded data removed]",
            "text/plain": [
              "<matplotlib.figure.Figure at 0x7f893a9fa400>"
            ]
          },
          "metadata": {
            "tags": []
          }
        }
      ]
    },
    {
      "metadata": {
        "id": "3Yv-ep9ybag4",
        "colab_type": "text"
      },
      "cell_type": "markdown",
      "source": [
        "Compute the HOGs for the train and test datasets"
      ]
    },
    {
      "metadata": {
        "id": "y8Q3cdrebag6",
        "colab_type": "code",
        "outputId": "39f25256-b47a-44e8-fb8a-50dec69e8668",
        "colab": {
          "base_uri": "https://localhost:8080/",
          "height": 106
        }
      },
      "cell_type": "code",
      "source": [
        "X_train_hog = np.zeros((X_train.shape[0], hog_size))\n",
        "X_test_hog = np.zeros((X_test.shape[0], hog_size))\n",
        "\n",
        "for i in np.arange(X_train_hog.shape[0]):\n",
        "    X_train_hog[i,:] = hog(X_train[i,:,:,0], orientations=n_orientations, pixels_per_cell=(pix_p_cell, pix_p_cell), cells_per_block=(1, 1), visualise=False)\n",
        "print('X_train done')\n",
        "\n",
        "for i in np.arange(X_test_hog.shape[0]):\n",
        "    X_test_hog[i,:] = hog(X_test[i,:,:,0], orientations=n_orientations, pixels_per_cell=(pix_p_cell, pix_p_cell), cells_per_block=(1, 1), visualise=False)\n",
        "print('X_test done')"
      ],
      "execution_count": 6,
      "outputs": [
        {
          "output_type": "stream",
          "text": [
            "/usr/local/lib/python3.6/dist-packages/skimage/feature/_hog.py:119: skimage_deprecation: Default value of `block_norm`==`L1` is deprecated and will be changed to `L2-Hys` in v0.15\n",
            "  'be changed to `L2-Hys` in v0.15', skimage_deprecation)\n"
          ],
          "name": "stderr"
        },
        {
          "output_type": "stream",
          "text": [
            "X_train done\n",
            "X_test done\n"
          ],
          "name": "stdout"
        }
      ]
    },
    {
      "metadata": {
        "id": "kos0aTYmbahU",
        "colab_type": "text"
      },
      "cell_type": "markdown",
      "source": [
        "Create the MLP"
      ]
    },
    {
      "metadata": {
        "id": "NnawtqztbahV",
        "colab_type": "code",
        "outputId": "1617b520-372f-4e61-f912-db704c982172",
        "colab": {
          "base_uri": "https://localhost:8080/",
          "height": 208
        }
      },
      "cell_type": "code",
      "source": [
        "model = Sequential()\n",
        "model.add(Dense(200, input_shape=(hog_size,), activation='relu'))\n",
        "#model.add(Dropout(0.5))\n",
        "model.add(Dense(n_classes, activation='softmax'))\n",
        "\n",
        "model.summary()"
      ],
      "execution_count": 7,
      "outputs": [
        {
          "output_type": "stream",
          "text": [
            "_________________________________________________________________\n",
            "Layer (type)                 Output Shape              Param #   \n",
            "=================================================================\n",
            "dense_1 (Dense)              (None, 200)               78600     \n",
            "_________________________________________________________________\n",
            "dense_2 (Dense)              (None, 10)                2010      \n",
            "=================================================================\n",
            "Total params: 80,610\n",
            "Trainable params: 80,610\n",
            "Non-trainable params: 0\n",
            "_________________________________________________________________\n"
          ],
          "name": "stdout"
        }
      ]
    },
    {
      "metadata": {
        "id": "EGeviXzJbahY",
        "colab_type": "text"
      },
      "cell_type": "markdown",
      "source": [
        "Define some constants and train the MLP"
      ]
    },
    {
      "metadata": {
        "id": "laKFY8vcbahZ",
        "colab_type": "code",
        "outputId": "412c8972-9ede-46a3-da18-37e3523404db",
        "colab": {
          "base_uri": "https://localhost:8080/",
          "height": 382
        }
      },
      "cell_type": "code",
      "source": [
        "batch_size = 128\n",
        "n_epoch = 10\n",
        "\n",
        "model.compile(loss='categorical_crossentropy', optimizer=RMSprop(), metrics=['accuracy'])\n",
        "history = model.fit(X_train_hog, Y_train,\n",
        "                    batch_size=batch_size, epochs=n_epoch,\n",
        "                    verbose=1, validation_data=(X_test_hog, Y_test))"
      ],
      "execution_count": 8,
      "outputs": [
        {
          "output_type": "stream",
          "text": [
            "Train on 60000 samples, validate on 10000 samples\n",
            "Epoch 1/10\n",
            "60000/60000 [==============================] - 5s 86us/step - loss: 0.2602 - acc: 0.9403 - val_loss: 0.0969 - val_acc: 0.9706\n",
            "Epoch 2/10\n",
            "60000/60000 [==============================] - 3s 51us/step - loss: 0.0934 - acc: 0.9708 - val_loss: 0.0801 - val_acc: 0.9754\n",
            "Epoch 3/10\n",
            "60000/60000 [==============================] - 3s 51us/step - loss: 0.0775 - acc: 0.9749 - val_loss: 0.0734 - val_acc: 0.9760\n",
            "Epoch 4/10\n",
            "60000/60000 [==============================] - 3s 51us/step - loss: 0.0674 - acc: 0.9789 - val_loss: 0.0700 - val_acc: 0.9776\n",
            "Epoch 5/10\n",
            "60000/60000 [==============================] - 3s 51us/step - loss: 0.0601 - acc: 0.9812 - val_loss: 0.0689 - val_acc: 0.9775\n",
            "Epoch 6/10\n",
            "60000/60000 [==============================] - 3s 51us/step - loss: 0.0535 - acc: 0.9831 - val_loss: 0.0673 - val_acc: 0.9791\n",
            "Epoch 7/10\n",
            "60000/60000 [==============================] - 3s 50us/step - loss: 0.0478 - acc: 0.9852 - val_loss: 0.0672 - val_acc: 0.9775\n",
            "Epoch 8/10\n",
            "60000/60000 [==============================] - 3s 50us/step - loss: 0.0426 - acc: 0.9871 - val_loss: 0.0670 - val_acc: 0.9794\n",
            "Epoch 9/10\n",
            "60000/60000 [==============================] - 3s 43us/step - loss: 0.0382 - acc: 0.9886 - val_loss: 0.0696 - val_acc: 0.9780\n",
            "Epoch 10/10\n",
            "60000/60000 [==============================] - 3s 43us/step - loss: 0.0335 - acc: 0.9903 - val_loss: 0.0653 - val_acc: 0.9799\n"
          ],
          "name": "stdout"
        }
      ]
    },
    {
      "metadata": {
        "id": "aezTZuCMbahf",
        "colab_type": "text"
      },
      "cell_type": "markdown",
      "source": [
        "Show the performance of the model"
      ]
    },
    {
      "metadata": {
        "id": "u6E66I52bahg",
        "colab_type": "code",
        "outputId": "65466c52-dce8-4fe0-d1bd-9b30ec75512b",
        "colab": {
          "base_uri": "https://localhost:8080/",
          "height": 300
        }
      },
      "cell_type": "code",
      "source": [
        "pl.plot(history.history['loss'], label='Training')\n",
        "pl.plot(history.history['val_loss'], label='Testing')\n",
        "pl.legend()\n",
        "pl.grid()\n",
        "\n",
        "score = model.evaluate(X_test_hog, Y_test, verbose=0)\n",
        "print('Test score:', score[0])\n",
        "print('Test accuracy:', score[1])"
      ],
      "execution_count": 9,
      "outputs": [
        {
          "output_type": "stream",
          "text": [
            "Test score: 0.0652660952850245\n",
            "Test accuracy: 0.9799\n"
          ],
          "name": "stdout"
        },
        {
          "output_type": "display_data",
          "data": {
            "image/png": "[encoded data removed]",
            "text/plain": [
              "<matplotlib.figure.Figure at 0x7f8936fd5c18>"
            ]
          },
          "metadata": {
            "tags": []
          }
        }
      ]
    },
    {
      "metadata": {
        "id": "axdxLHYMbahu",
        "colab_type": "text"
      },
      "cell_type": "markdown",
      "source": [
        "Confusion matrix"
      ]
    },
    {
      "metadata": {
        "id": "Mhm1wjNfbahv",
        "colab_type": "code",
        "outputId": "263f039e-e4b7-4be5-fdb5-a82d64a94d4d",
        "colab": {
          "base_uri": "https://localhost:8080/",
          "height": 191
        }
      },
      "cell_type": "code",
      "source": [
        "pred = model.predict_classes(X_test_hog)\n",
        "me.confusion_matrix(y_test, pred)"
      ],
      "execution_count": 10,
      "outputs": [
        {
          "output_type": "execute_result",
          "data": {
            "text/plain": [
              "array([[ 972,    0,    0,    0,    0,    2,    3,    0,    2,    1],\n",
              "       [   1, 1126,    1,    1,    0,    0,    2,    3,    1,    0],\n",
              "       [   2,    1, 1012,    2,    2,    0,    1,   11,    1,    0],\n",
              "       [   0,    0,    1,  993,    0,    7,    0,    4,    3,    2],\n",
              "       [   2,    3,    1,    0,  961,    0,    2,    3,    2,    8],\n",
              "       [   2,    1,    0,    7,    0,  870,    4,    1,    5,    2],\n",
              "       [   5,    2,    0,    0,    4,    4,  943,    0,    0,    0],\n",
              "       [   1,    4,    1,    1,    5,    0,    0, 1010,    1,    5],\n",
              "       [   8,    1,    2,    9,    1,    3,    1,    4,  939,    6],\n",
              "       [   2,    5,    0,    4,    8,    4,    0,   10,    3,  973]])"
            ]
          },
          "metadata": {
            "tags": []
          },
          "execution_count": 10
        }
      ]
    },
    {
      "metadata": {
        "id": "K8DTvmUXbah0",
        "colab_type": "code",
        "colab": {}
      },
      "cell_type": "code",
      "source": [
        ""
      ],
      "execution_count": 0,
      "outputs": []
    }
  ]
}