{
  "nbformat": 4,
  "nbformat_minor": 0,
  "metadata": {
    "colab": {
      "name": "MLP_from_raw_data.ipynb",
      "version": "0.3.2",
      "provenance": [],
      "collapsed_sections": []
    },
    "kernelspec": {
      "name": "python3",
      "display_name": "Python 3"
    },
    "accelerator": "GPU"
  },
  "cells": [
    {
      "metadata": {
        "id": "Ic-cqm0tbUc3",
        "colab_type": "text"
      },
      "cell_type": "markdown",
      "source": [
        "# Multilayer Perceptron from raw data\n",
        "This notebook will guide you through the use of the `keras` package to train a multilayer perceptron for handwritten digits classification. You are going to use the `mnist` dataset from LeCun et al. 1998"
      ]
    },
    {
      "metadata": {
        "id": "ND1Cf9lXbUc6",
        "colab_type": "text"
      },
      "cell_type": "markdown",
      "source": [
        "## Loading the packages"
      ]
    },
    {
      "metadata": {
        "id": "Pvq0DhLtbUdE",
        "colab_type": "code",
        "outputId": "fdc3cdaf-b7ac-4c52-a5e2-ec221ad9519c",
        "colab": {
          "base_uri": "https://localhost:8080/",
          "height": 34
        }
      },
      "cell_type": "code",
      "source": [
        "import numpy as np\n",
        "from matplotlib import pyplot as pl\n",
        "\n",
        "from keras.datasets import mnist\n",
        "from keras.models import Sequential\n",
        "from keras.layers.core import Dense, Dropout\n",
        "from keras.optimizers import RMSprop\n",
        "from keras.utils import np_utils\n",
        "from sklearn import metrics as me\n",
        "\n",
        "%matplotlib inline"
      ],
      "execution_count": 0,
      "outputs": [
        {
          "output_type": "stream",
          "text": [
            "Using TensorFlow backend.\n"
          ],
          "name": "stderr"
        }
      ]
    },
    {
      "metadata": {
        "id": "Vy0wRnm2bUde",
        "colab_type": "text"
      },
      "cell_type": "markdown",
      "source": [
        "## Using raw data to train a MLP\n",
        "First load the `mnist` dataset and normalize it to be in the range [0, 1]"
      ]
    },
    {
      "metadata": {
        "id": "8CKuJwcibUdi",
        "colab_type": "code",
        "outputId": "8c86079a-eedb-425e-f17d-cbff6bdfe131",
        "colab": {
          "base_uri": "https://localhost:8080/",
          "height": 85
        }
      },
      "cell_type": "code",
      "source": [
        "(X_train, y_train), (X_test, y_test) = mnist.load_data()\n",
        "\n",
        "X_train = X_train.reshape(60000, 784)\n",
        "X_test = X_test.reshape(10000, 784)\n",
        "X_train = X_train.astype('float32')\n",
        "X_test = X_test.astype('float32')\n",
        "X_train /= 255\n",
        "X_test /= 255\n",
        "print(X_train.shape[0], 'train samples')\n",
        "print(X_test.shape[0], 'test samples')\n",
        "\n",
        "n_classes = 10\n",
        "# convert class vectors to binary class matrices\n",
        "Y_train = np_utils.to_categorical(y_train, n_classes)\n",
        "Y_test = np_utils.to_categorical(y_test, n_classes)"
      ],
      "execution_count": 0,
      "outputs": [
        {
          "output_type": "stream",
          "text": [
            "Downloading data from https://s3.amazonaws.com/img-datasets/mnist.npz\n",
            "11493376/11490434 [==============================] - 0s 0us/step\n",
            "60000 train samples\n",
            "10000 test samples\n"
          ],
          "name": "stdout"
        }
      ]
    },
    {
      "metadata": {
        "id": "01XwVeDNbUdv",
        "colab_type": "text"
      },
      "cell_type": "markdown",
      "source": [
        "Create the MLP"
      ]
    },
    {
      "metadata": {
        "id": "DNgzrBJEbUd0",
        "colab_type": "code",
        "outputId": "6f5446ab-a669-47b1-b788-d148884cb515",
        "colab": {
          "base_uri": "https://localhost:8080/",
          "height": 204
        }
      },
      "cell_type": "code",
      "source": [
        "model = Sequential()\n",
        "model.add(Dense(300, input_shape=(784,), activation='relu'))\n",
        "#model.add(Dropout(0.5))\n",
        "model.add(Dense(n_classes, activation='softmax'))\n",
        "\n",
        "model.summary()"
      ],
      "execution_count": 0,
      "outputs": [
        {
          "output_type": "stream",
          "text": [
            "_________________________________________________________________\n",
            "Layer (type)                 Output Shape              Param #   \n",
            "=================================================================\n",
            "dense_1 (Dense)              (None, 300)               235500    \n",
            "_________________________________________________________________\n",
            "dense_2 (Dense)              (None, 10)                3010      \n",
            "=================================================================\n",
            "Total params: 238,510\n",
            "Trainable params: 238,510\n",
            "Non-trainable params: 0\n",
            "_________________________________________________________________\n"
          ],
          "name": "stdout"
        }
      ]
    },
    {
      "metadata": {
        "id": "Peiq9GR2bUeN",
        "colab_type": "text"
      },
      "cell_type": "markdown",
      "source": [
        "Define some constants and train the MLP"
      ]
    },
    {
      "metadata": {
        "id": "NBt-ReqIbUeR",
        "colab_type": "code",
        "outputId": "800ecdea-e7b1-472f-9862-12fbfbb81e10",
        "colab": {
          "base_uri": "https://localhost:8080/",
          "height": 1000
        }
      },
      "cell_type": "code",
      "source": [
        "batch_size = 128\n",
        "n_epoch = 10\n",
        "\n",
        "model.compile(loss='categorical_crossentropy', optimizer=RMSprop(), metrics=['accuracy'])\n",
        "history = model.fit(X_train, Y_train,\n",
        "                    batch_size=batch_size, epochs=n_epoch,\n",
        "                    verbose=1, validation_data=(X_test, Y_test))"
      ],
      "execution_count": 0,
      "outputs": [
        {
          "output_type": "stream",
          "text": [
            "Train on 60000 samples, validate on 10000 samples\n",
            "Epoch 1/10\n",
            "60000/60000 [==============================] - 5s 84us/step - loss: 0.2792 - acc: 0.9214 - val_loss: 0.1584 - val_acc: 0.9514\n",
            "Epoch 2/10\n",
            "60000/60000 [==============================] - 3s 47us/step - loss: 0.1209 - acc: 0.9649 - val_loss: 0.0967 - val_acc: 0.9709\n",
            "Epoch 3/10\n",
            "60000/60000 [==============================] - 3s 50us/step - loss: 0.0820 - acc: 0.9745 - val_loss: 0.0882 - val_acc: 0.9717\n",
            "Epoch 4/10\n",
            "60000/60000 [==============================] - 3s 50us/step - loss: 0.0609 - acc: 0.9819 - val_loss: 0.0763 - val_acc: 0.9775\n",
            "Epoch 5/10\n",
            "60000/60000 [==============================] - 3s 51us/step - loss: 0.0476 - acc: 0.9859 - val_loss: 0.0683 - val_acc: 0.9795\n",
            "Epoch 6/10\n",
            "60000/60000 [==============================] - 3s 53us/step - loss: 0.0381 - acc: 0.9889 - val_loss: 0.0715 - val_acc: 0.9798\n",
            "Epoch 7/10\n",
            "60000/60000 [==============================] - 3s 53us/step - loss: 0.0300 - acc: 0.9912 - val_loss: 0.0710 - val_acc: 0.9799\n",
            "Epoch 8/10\n",
            "60000/60000 [==============================] - 3s 49us/step - loss: 0.0240 - acc: 0.9933 - val_loss: 0.0685 - val_acc: 0.9810\n",
            "Epoch 9/10\n",
            "60000/60000 [==============================] - 3s 47us/step - loss: 0.0198 - acc: 0.9945 - val_loss: 0.0657 - val_acc: 0.9809\n",
            "Epoch 10/10\n",
            "60000/60000 [==============================] - 3s 47us/step - loss: 0.0158 - acc: 0.9956 - val_loss: 0.0662 - val_acc: 0.9812\n"
          ],
          "name": "stdout"
        }
      ]
    },
    {
      "metadata": {
        "id": "7u_zpHr5bUeb",
        "colab_type": "text"
      },
      "cell_type": "markdown",
      "source": [
        "Show the performance of the model"
      ]
    },
    {
      "metadata": {
        "id": "PHXi21E1bUef",
        "colab_type": "code",
        "outputId": "dd1b047c-8e84-418f-92be-c14a3328688f",
        "colab": {
          "base_uri": "https://localhost:8080/",
          "height": 299
        }
      },
      "cell_type": "code",
      "source": [
        "pl.plot(history.history['loss'], label='Training')\n",
        "pl.plot(history.history['val_loss'], label='Testing')\n",
        "pl.legend()\n",
        "pl.grid()\n",
        "\n",
        "score = model.evaluate(X_test, Y_test, verbose=0)\n",
        "print('Test score:', score[0])\n",
        "print('Test accuracy:', score[1])"
      ],
      "execution_count": 0,
      "outputs": [
        {
          "output_type": "stream",
          "text": [
            "Test score: 0.06623764222540485\n",
            "Test accuracy: 0.9812\n"
          ],
          "name": "stdout"
        },
        {
          "output_type": "display_data",
          "data": {
            "image/png": "[encoded data removed]",
            "text/plain": [
              "<matplotlib.figure.Figure at 0x7f237f737e80>"
            ]
          },
          "metadata": {
            "tags": []
          }
        }
      ]
    },
    {
      "metadata": {
        "id": "jLuFK6MobUet",
        "colab_type": "text"
      },
      "cell_type": "markdown",
      "source": [
        "Confusion matrix"
      ]
    },
    {
      "metadata": {
        "id": "PAjwjjrjbUex",
        "colab_type": "code",
        "outputId": "9a15a00b-6666-460d-f4a3-09eebc6168d0",
        "colab": {
          "base_uri": "https://localhost:8080/",
          "height": 187
        }
      },
      "cell_type": "code",
      "source": [
        "pred = model.predict_classes(X_test)\n",
        "me.confusion_matrix(y_test, pred)"
      ],
      "execution_count": 0,
      "outputs": [
        {
          "output_type": "execute_result",
          "data": {
            "text/plain": [
              "array([[ 970,    0,    0,    1,    1,    1,    2,    1,    3,    1],\n",
              "       [   0, 1122,    4,    1,    0,    1,    2,    1,    4,    0],\n",
              "       [   4,    0, 1017,    3,    1,    0,    2,    3,    2,    0],\n",
              "       [   0,    0,    5,  992,    0,    3,    0,    3,    1,    6],\n",
              "       [   3,    0,    3,    1,  958,    0,    3,    3,    1,   10],\n",
              "       [   2,    0,    0,    9,    1,  873,    3,    0,    1,    3],\n",
              "       [   4,    3,    1,    1,    3,    9,  935,    0,    2,    0],\n",
              "       [   1,    3,    8,    3,    1,    0,    0, 1003,    4,    5],\n",
              "       [   1,    0,    3,    3,    4,    6,    0,    3,  950,    4],\n",
              "       [   2,    2,    0,    4,    3,    3,    1,    1,    1,  992]])"
            ]
          },
          "metadata": {
            "tags": []
          },
          "execution_count": 8
        }
      ]
    },
    {
      "metadata": {
        "id": "g8UreTiYckE6",
        "colab_type": "code",
        "colab": {}
      },
      "cell_type": "code",
      "source": [
        ""
      ],
      "execution_count": 0,
      "outputs": []
    }
  ]
}