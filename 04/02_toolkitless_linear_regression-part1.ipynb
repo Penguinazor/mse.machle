{
 "cells": [
  {
   "cell_type": "code",
   "execution_count": null,
   "metadata": {
    "nbpresent": {
     "id": "158665f9-e733-498c-91a2-125ba14b72a2"
    }
   },
   "outputs": [],
   "source": [
    "from numpy.linalg import inv\n",
    "from numpy import matmul\n",
    "\n",
    "import numpy as np\n",
    "import matplotlib.pyplot as plt\n",
    "import pandas as pd\n",
    "%matplotlib inline"
   ]
  },
  {
   "cell_type": "markdown",
   "metadata": {
    "nbpresent": {
     "id": "702e5d06-5eab-4abf-a826-8928c236e16a"
    }
   },
   "source": [
    "# Loading the data\n",
    "\n",
    "We use the dataset \"Brain weight and head size\"."
   ]
  },
  {
   "cell_type": "code",
   "execution_count": null,
   "metadata": {
    "nbpresent": {
     "id": "eee48072-235a-4d1e-9231-1b650549031d"
    }
   },
   "outputs": [],
   "source": [
    "dataset = pd.read_csv('x02.csv',names=['gender',\n",
    "                                        'age',\n",
    "                                        'head_size',\n",
    "                                        'brain_weight'])\n",
    "x = dataset['brain_weight'].values  #x is a line vector\n",
    "y = dataset['head_size'].values     #y is a line vector\n",
    "\n",
    "x = x * 1.0\n",
    "y = y * 1.0\n",
    "\n",
    "print('x.size =',x.size)\n",
    "print('y.size =',y.size)\n",
    "plt.scatter(x,y)\n",
    "plt.title('Head size as a function of brain weight')\n",
    "plt.xlabel('Brain weight ($g$)')\n",
    "plt.ylabel('Head Size ($cm^3$)')\n",
    "plt.show()"
   ]
  },
  {
   "cell_type": "code",
   "execution_count": null,
   "metadata": {
    "nbpresent": {
     "id": "dc91df87-037e-49e1-a16e-6fefec918f34"
    }
   },
   "outputs": [],
   "source": [
    "plt.hist(x)\n",
    "plt.title('Histogram distribution of brain weight')\n",
    "plt.xlabel('Brain weight ($g$)')\n",
    "plt.show()"
   ]
  },
  {
   "cell_type": "markdown",
   "metadata": {
    "nbpresent": {
     "id": "9bc121a5-3398-4a0e-855f-b095b50a42ba"
    }
   },
   "source": [
    "# Regression using polyfit\n",
    "In this example we use the pre-defined function polyfit to perform linear and non-linear regressions."
   ]
  },
  {
   "cell_type": "code",
   "execution_count": null,
   "metadata": {
    "nbpresent": {
     "id": "57c1cbb0-a95d-4621-8d66-0c64b5150348"
    }
   },
   "outputs": [],
   "source": [
    "polynomCoeff = np.polyfit(x,y,deg=1)             #get the polynom coeff (order=1 for a line)\n",
    "h = np.poly1d(polynomCoeff)                      #get the fitting function\n",
    "xUnseen = np.linspace(np.min(x),np.max(x),200)   #generate 200 unseen x values from min to max\n",
    "yHat = h(xUnseen)                                #compute the estimated y values\n",
    "plt.plot(xUnseen,yHat,color='red',label='linear regression $\\widehat{y} = h(x)$')\n",
    "plt.scatter(x,y,label='raw data $(x,y)$')\n",
    "plt.title('Head size as a function of brain weight')\n",
    "plt.xlabel('Brain weight ($g$)')\n",
    "plt.ylabel('Head Size ($cm^3$)')\n",
    "plt.legend(loc='lower right',fontsize='small');"
   ]
  },
  {
   "cell_type": "code",
   "execution_count": null,
   "metadata": {
    "nbpresent": {
     "id": "632c6262-ce0e-4cf9-b14b-6e82e402e770"
    }
   },
   "outputs": [],
   "source": [
    "polynomCoeff = np.polyfit(x,y,deg=1)             #get the polynom coeff (order=1 for a line)\n",
    "h = np.poly1d(polynomCoeff)                      #get the fitting function\n",
    "xUnseen = np.linspace(np.min(x),np.max(x),200)   #generate 200 unseen x values from min to max\n",
    "yHat = h(xUnseen)                                #compute the estimated y values\n",
    "plt.plot(xUnseen,yHat,color='red',label='linear regression $\\widehat{y} = h(x)$')\n",
    "plt.scatter(x,y,label='raw data $(x,y)$');\n",
    "polynomCoeff = np.polyfit(x,y,deg=2)             #get the polynom coeff (order=2)\n",
    "h = np.poly1d(polynomCoeff)                      #get the fitting function\n",
    "yHat = h(xUnseen)                                #compute the estimated y values\n",
    "plt.plot(xUnseen,yHat,color='green', label='polyfit deg=2 $\\widehat{y} = h(x)$')\n",
    "plt.title('Head size as a function of brain weight')\n",
    "plt.xlabel('Brain weight ($g$)')\n",
    "plt.ylabel('Head Size ($cm^3$)')\n",
    "plt.legend(loc='lower right',fontsize='small')\n",
    "plt.savefig('numpy-polyfit.pdf')"
   ]
  },
  {
   "cell_type": "code",
   "execution_count": null,
   "metadata": {},
   "outputs": [],
   "source": []
  }
 ],
 "metadata": {
  "anaconda-cloud": {},
  "kernelspec": {
   "display_name": "Python 3",
   "language": "python",
   "name": "python3"
  },
  "language_info": {
   "codemirror_mode": {
    "name": "ipython",
    "version": 3
   },
   "file_extension": ".py",
   "mimetype": "text/x-python",
   "name": "python",
   "nbconvert_exporter": "python",
   "pygments_lexer": "ipython3",
   "version": "3.6.4"
  }
 },
 "nbformat": 4,
 "nbformat_minor": 1
}
